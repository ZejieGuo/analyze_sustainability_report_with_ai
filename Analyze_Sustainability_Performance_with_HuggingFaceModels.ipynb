{
  "nbformat": 4,
  "nbformat_minor": 0,
  "metadata": {
    "colab": {
      "provenance": [],
      "gpuType": "T4"
    },
    "kernelspec": {
      "name": "python3",
      "display_name": "Python 3"
    },
    "language_info": {
      "name": "python"
    },
    "accelerator": "GPU"
  },
  "cells": [
    {
      "cell_type": "markdown",
      "source": [
        "## Sustainability Report Analysis using pre-trained Models from HuggingFace\n",
        "This notebook demonstrates how to classify environmental and action-related content from sustainability reports\n",
        "using pre-trained language models from HuggingFace. The process involves extracting text from PDF reports, segmenting the text into sentences,\n",
        "and classifying these sentences using pre-trained models.\n",
        "\n",
        "The steps are as follows:\n",
        "1. Install necessary packages.:\n",
        "2. Load pre-trained models for classification.\n",
        "3. Extract and segment text from PDFs.\n",
        "4. Run the classification pipeline on sample reports.\n",
        "5. Visualize the classification results."
      ],
      "metadata": {
        "id": "eaqYlKL_Fi8q"
      }
    },
    {
      "cell_type": "markdown",
      "source": [
        "Please set Runtime to GPU in Colab:\n",
        "\n",
        "Go to the menu bar and select <b>Runtime</b> -->Choose <b>Change runtime type</b> -->Select <b>T4 GPU</b>"
      ],
      "metadata": {
        "id": "3fVmBWACVoFH"
      }
    },
    {
      "cell_type": "markdown",
      "source": [
        "### Step1. Install packages and load the models"
      ],
      "metadata": {
        "id": "vCh2kJXx-oA1"
      }
    },
    {
      "cell_type": "code",
      "source": [
        "# Install transformers\n",
        "!pip install transformers"
      ],
      "metadata": {
        "id": "QoJ6wDjTYGdP",
        "colab": {
          "base_uri": "https://localhost:8080/"
        },
        "outputId": "52e66663-9fb1-43c4-94b2-6675b129a4a3"
      },
      "execution_count": null,
      "outputs": [
        {
          "output_type": "stream",
          "name": "stdout",
          "text": [
            "Requirement already satisfied: transformers in /usr/local/lib/python3.10/dist-packages (4.47.1)\n",
            "Requirement already satisfied: filelock in /usr/local/lib/python3.10/dist-packages (from transformers) (3.16.1)\n",
            "Requirement already satisfied: huggingface-hub<1.0,>=0.24.0 in /usr/local/lib/python3.10/dist-packages (from transformers) (0.27.1)\n",
            "Requirement already satisfied: numpy>=1.17 in /usr/local/lib/python3.10/dist-packages (from transformers) (1.26.4)\n",
            "Requirement already satisfied: packaging>=20.0 in /usr/local/lib/python3.10/dist-packages (from transformers) (24.2)\n",
            "Requirement already satisfied: pyyaml>=5.1 in /usr/local/lib/python3.10/dist-packages (from transformers) (6.0.2)\n",
            "Requirement already satisfied: regex!=2019.12.17 in /usr/local/lib/python3.10/dist-packages (from transformers) (2024.11.6)\n",
            "Requirement already satisfied: requests in /usr/local/lib/python3.10/dist-packages (from transformers) (2.32.3)\n",
            "Requirement already satisfied: tokenizers<0.22,>=0.21 in /usr/local/lib/python3.10/dist-packages (from transformers) (0.21.0)\n",
            "Requirement already satisfied: safetensors>=0.4.1 in /usr/local/lib/python3.10/dist-packages (from transformers) (0.5.1)\n",
            "Requirement already satisfied: tqdm>=4.27 in /usr/local/lib/python3.10/dist-packages (from transformers) (4.67.1)\n",
            "Requirement already satisfied: fsspec>=2023.5.0 in /usr/local/lib/python3.10/dist-packages (from huggingface-hub<1.0,>=0.24.0->transformers) (2024.10.0)\n",
            "Requirement already satisfied: typing-extensions>=3.7.4.3 in /usr/local/lib/python3.10/dist-packages (from huggingface-hub<1.0,>=0.24.0->transformers) (4.12.2)\n",
            "Requirement already satisfied: charset-normalizer<4,>=2 in /usr/local/lib/python3.10/dist-packages (from requests->transformers) (3.4.1)\n",
            "Requirement already satisfied: idna<4,>=2.5 in /usr/local/lib/python3.10/dist-packages (from requests->transformers) (3.10)\n",
            "Requirement already satisfied: urllib3<3,>=1.21.1 in /usr/local/lib/python3.10/dist-packages (from requests->transformers) (2.3.0)\n",
            "Requirement already satisfied: certifi>=2017.4.17 in /usr/local/lib/python3.10/dist-packages (from requests->transformers) (2024.12.14)\n"
          ]
        }
      ]
    },
    {
      "cell_type": "code",
      "execution_count": null,
      "metadata": {
        "id": "VgPEaZVO-PBl"
      },
      "outputs": [],
      "source": [
        "import pandas as pd\n",
        "import numpy as np\n",
        "import plotly.graph_objects as go\n",
        "import plotly.express as px\n",
        "from transformers import AutoModelForSequenceClassification, AutoTokenizer, pipeline\n",
        "import spacy"
      ]
    },
    {
      "cell_type": "markdown",
      "source": [
        "### Step2. Load pre-trained models from huggingface for classification\n"
      ],
      "metadata": {
        "id": "qqz2fgviEmyS"
      }
    },
    {
      "cell_type": "code",
      "source": [
        "# Load pre-trained model for environmental classification\n",
        "env_model_name = \"ESGBERT/EnvironmentalBERT-environmental\"  # Path to model on Hugging Face\n",
        "tokenizer_env = AutoTokenizer.from_pretrained(env_model_name)\n",
        "model_env = AutoModelForSequenceClassification.from_pretrained(env_model_name)\n",
        "pipe_env = pipeline(\"text-classification\", model=model_env, tokenizer=tokenizer_env, device=0)  # Use GPU\n",
        "\n",
        "# Load pre-trained model for action classification\n",
        "action_model_name = \"ESGBERT/EnvironmentalBERT-action\"\n",
        "tokenizer_act = AutoTokenizer.from_pretrained(action_model_name)\n",
        "model_act = AutoModelForSequenceClassification.from_pretrained(action_model_name)\n",
        "pipe_act = pipeline(\"text-classification\", model=model_act, tokenizer=tokenizer_act, device=0)  # Use GPU"
      ],
      "metadata": {
        "colab": {
          "base_uri": "https://localhost:8080/"
        },
        "id": "0PxIUJl2dQj8",
        "outputId": "65ffb8a1-8400-4b0e-9a8a-8eb6c53beb1d"
      },
      "execution_count": null,
      "outputs": [
        {
          "output_type": "stream",
          "name": "stderr",
          "text": [
            "Device set to use cuda:0\n",
            "Device set to use cuda:0\n"
          ]
        }
      ]
    },
    {
      "cell_type": "markdown",
      "source": [
        "Test the classification models with some sentences:"
      ],
      "metadata": {
        "id": "VS9LkMZZXPEY"
      }
    },
    {
      "cell_type": "code",
      "source": [
        "# \"environmental\" classification\n",
        "pipe_env(\"We are really relying on people improving their consumer decisions to fight climate change.\")"
      ],
      "metadata": {
        "colab": {
          "base_uri": "https://localhost:8080/"
        },
        "id": "TwRellgf_HRK",
        "outputId": "5bb090bf-bc51-449f-97bb-dd4d47bce217"
      },
      "execution_count": null,
      "outputs": [
        {
          "output_type": "execute_result",
          "data": {
            "text/plain": [
              "[{'label': 'environmental', 'score': 0.9977815747261047}]"
            ]
          },
          "metadata": {},
          "execution_count": 7
        }
      ]
    },
    {
      "cell_type": "code",
      "source": [
        "# \"action\" classification\n",
        "pipe_act(\"We planted 7.500 trees in the last 5 years.\")"
      ],
      "metadata": {
        "colab": {
          "base_uri": "https://localhost:8080/"
        },
        "id": "GEyF2Uiw-uH9",
        "outputId": "e57931c9-2dc6-4bc1-bbd6-489935e80b00"
      },
      "execution_count": null,
      "outputs": [
        {
          "output_type": "execute_result",
          "data": {
            "text/plain": [
              "[{'label': 'action', 'score': 0.9999480247497559}]"
            ]
          },
          "metadata": {},
          "execution_count": 8
        }
      ]
    },
    {
      "cell_type": "markdown",
      "source": [
        "### Step3. PDF content extraction using semantic chunking with Unstructured.io.\n",
        "The semantic chunking stage is time-consuming (taking around 2 minutes per page), so I used the processed reports from my previous project. The script, semantic_chunking.py, that I wrote for semantic chunking these reports is located in the same folder as this notebook."
      ],
      "metadata": {
        "id": "_UQFC3dOHqjX"
      }
    },
    {
      "cell_type": "markdown",
      "source": [
        "### Step4. Run the classification pipeline on sample reports.\n",
        "In this pipeline, we will first classify all sentences with the “environmental” model. Then, we will classify all “environmental” sentences with the “action” model."
      ],
      "metadata": {
        "id": "3sc8K2FGgRKj"
      }
    },
    {
      "cell_type": "code",
      "source": [
        "def classifyMultipleCompanies(json_file_paths, pipe_env, pipe_act):\n",
        "    \"\"\"\n",
        "    Process multiple JSON files, classify sentences for environmental and action labels,\n",
        "    and visualize results meaningfully using Plotly.\n",
        "\n",
        "    Args:\n",
        "    json_file_paths (list of str): List of file paths to JSON files for each company.\n",
        "    pipe_env (pipeline): Hugging Face pipeline for environmental classification.\n",
        "    pipe_act (pipeline): Hugging Face pipeline for action classification.\n",
        "\n",
        "    Returns:\n",
        "    pd.DataFrame: A DataFrame containing sentences and their classifications for all companies.\n",
        "    \"\"\"\n",
        "    nlp = spacy.load('en_core_web_sm')\n",
        "    nlp.max_length = 2500000  # Increase max length for large documents\n",
        "\n",
        "    all_results = []  # To store classification results for all companies\n",
        "\n",
        "    for file_path in json_file_paths:\n",
        "        # Load JSON file\n",
        "        with open(file_path, 'r') as f:\n",
        "            json_data = json.load(f)\n",
        "\n",
        "        # Extract text for the company\n",
        "        company_name = json_data[0]['metadata']['filename'].split('_')[0]  # Use part of the filename as company name\n",
        "        company_text = \" \".join([entry[\"text\"] for entry in json_data])\n",
        "\n",
        "        # Segment text into sentences\n",
        "        about_doc = nlp(company_text)\n",
        "        sentences = [str(sent).replace(\"\\n\", \"\").strip() for sent in about_doc.sents if sent.text.strip()]\n",
        "\n",
        "        # Classify sentences as environmental\n",
        "        env_classifications = pipe_env(sentences, padding=True, truncation=True, batch_size=16)\n",
        "        env_labels = [x[\"label\"] for x in env_classifications]\n",
        "        df = pd.DataFrame({\"text\": sentences, \"environmental\": env_labels})\n",
        "\n",
        "        # Filter environmental sentences and classify actions\n",
        "        df_env = df.loc[df[\"environmental\"] == \"environmental\"].copy()\n",
        "        if not df_env.empty:\n",
        "            action_classifications = pipe_act(df_env.text.to_list(), padding=True, truncation=True, batch_size=16)\n",
        "            df_env[\"action\"] = [x[\"label\"] for x in action_classifications]\n",
        "        else:\n",
        "            df_env[\"action\"] = None\n",
        "\n",
        "        # Merge action results back into the main DataFrame\n",
        "        df = df.merge(df_env[[\"text\", \"action\"]], on=\"text\", how=\"left\")\n",
        "\n",
        "        # Add company name to results\n",
        "        df[\"company\"] = company_name\n",
        "        all_results.append(df)\n",
        "\n",
        "    # Combine results for all companies into a single DataFrame\n",
        "    combined_results = pd.concat(all_results, ignore_index=True)\n",
        "    return combined_results"
      ],
      "metadata": {
        "id": "FIgTHau2dZ9L"
      },
      "execution_count": null,
      "outputs": []
    },
    {
      "cell_type": "code",
      "source": [
        "results = classifyMultipleCompanies(json_file_paths, pipe_env, pipe_act)"
      ],
      "metadata": {
        "id": "MUVIVojlhSqC"
      },
      "execution_count": null,
      "outputs": []
    },
    {
      "cell_type": "code",
      "source": [
        "results"
      ],
      "metadata": {
        "colab": {
          "base_uri": "https://localhost:8080/",
          "height": 901
        },
        "id": "Pv2wGeJ8hMgA",
        "outputId": "bc7f4ce4-4e16-479d-b5c4-11ce5608302a"
      },
      "execution_count": null,
      "outputs": [
        {
          "output_type": "execute_result",
          "data": {
            "text/plain": [
              "                                                    text  environmental  \\\n",
              "0      y  3  t  i  2  l  i  0  b  2  a     n  t  i  r...  environmental   \n",
              "1                                          The ABB Way21           none   \n",
              "2      We enable a low-carbon society08 Sustainabilit...  environmental   \n",
              "3      We promote social progress44 Health and safety...           none   \n",
              "4      We embed a culture of integrity and transparen...  environmental   \n",
              "...                                                  ...            ...   \n",
              "13318  Information about absolute changes between rep...           none   \n",
              "13319  Tables | Within tables, blank fields generally...           none   \n",
              "13320  Zero values generally indicate that the respec...           none   \n",
              "13321  Percentage changes are presented as a mathemat...           none   \n",
              "13322  Sustainability Report 2023 | Appendix 4 | Othe...  environmental   \n",
              "\n",
              "      action company  \n",
              "0       none     ABB  \n",
              "1        NaN     ABB  \n",
              "2       none     ABB  \n",
              "3        NaN     ABB  \n",
              "4       none     ABB  \n",
              "...      ...     ...  \n",
              "13318    NaN     UBS  \n",
              "13319    NaN     UBS  \n",
              "13320    NaN     UBS  \n",
              "13321    NaN     UBS  \n",
              "13322   none     UBS  \n",
              "\n",
              "[13323 rows x 4 columns]"
            ],
            "text/html": [
              "\n",
              "  <div id=\"df-986b4500-29eb-4821-aa16-536c33222b0f\" class=\"colab-df-container\">\n",
              "    <div>\n",
              "<style scoped>\n",
              "    .dataframe tbody tr th:only-of-type {\n",
              "        vertical-align: middle;\n",
              "    }\n",
              "\n",
              "    .dataframe tbody tr th {\n",
              "        vertical-align: top;\n",
              "    }\n",
              "\n",
              "    .dataframe thead th {\n",
              "        text-align: right;\n",
              "    }\n",
              "</style>\n",
              "<table border=\"1\" class=\"dataframe\">\n",
              "  <thead>\n",
              "    <tr style=\"text-align: right;\">\n",
              "      <th></th>\n",
              "      <th>text</th>\n",
              "      <th>environmental</th>\n",
              "      <th>action</th>\n",
              "      <th>company</th>\n",
              "    </tr>\n",
              "  </thead>\n",
              "  <tbody>\n",
              "    <tr>\n",
              "      <th>0</th>\n",
              "      <td>y  3  t  i  2  l  i  0  b  2  a     n  t  i  r...</td>\n",
              "      <td>environmental</td>\n",
              "      <td>none</td>\n",
              "      <td>ABB</td>\n",
              "    </tr>\n",
              "    <tr>\n",
              "      <th>1</th>\n",
              "      <td>The ABB Way21</td>\n",
              "      <td>none</td>\n",
              "      <td>NaN</td>\n",
              "      <td>ABB</td>\n",
              "    </tr>\n",
              "    <tr>\n",
              "      <th>2</th>\n",
              "      <td>We enable a low-carbon society08 Sustainabilit...</td>\n",
              "      <td>environmental</td>\n",
              "      <td>none</td>\n",
              "      <td>ABB</td>\n",
              "    </tr>\n",
              "    <tr>\n",
              "      <th>3</th>\n",
              "      <td>We promote social progress44 Health and safety...</td>\n",
              "      <td>none</td>\n",
              "      <td>NaN</td>\n",
              "      <td>ABB</td>\n",
              "    </tr>\n",
              "    <tr>\n",
              "      <th>4</th>\n",
              "      <td>We embed a culture of integrity and transparen...</td>\n",
              "      <td>environmental</td>\n",
              "      <td>none</td>\n",
              "      <td>ABB</td>\n",
              "    </tr>\n",
              "    <tr>\n",
              "      <th>...</th>\n",
              "      <td>...</td>\n",
              "      <td>...</td>\n",
              "      <td>...</td>\n",
              "      <td>...</td>\n",
              "    </tr>\n",
              "    <tr>\n",
              "      <th>13318</th>\n",
              "      <td>Information about absolute changes between rep...</td>\n",
              "      <td>none</td>\n",
              "      <td>NaN</td>\n",
              "      <td>UBS</td>\n",
              "    </tr>\n",
              "    <tr>\n",
              "      <th>13319</th>\n",
              "      <td>Tables | Within tables, blank fields generally...</td>\n",
              "      <td>none</td>\n",
              "      <td>NaN</td>\n",
              "      <td>UBS</td>\n",
              "    </tr>\n",
              "    <tr>\n",
              "      <th>13320</th>\n",
              "      <td>Zero values generally indicate that the respec...</td>\n",
              "      <td>none</td>\n",
              "      <td>NaN</td>\n",
              "      <td>UBS</td>\n",
              "    </tr>\n",
              "    <tr>\n",
              "      <th>13321</th>\n",
              "      <td>Percentage changes are presented as a mathemat...</td>\n",
              "      <td>none</td>\n",
              "      <td>NaN</td>\n",
              "      <td>UBS</td>\n",
              "    </tr>\n",
              "    <tr>\n",
              "      <th>13322</th>\n",
              "      <td>Sustainability Report 2023 | Appendix 4 | Othe...</td>\n",
              "      <td>environmental</td>\n",
              "      <td>none</td>\n",
              "      <td>UBS</td>\n",
              "    </tr>\n",
              "  </tbody>\n",
              "</table>\n",
              "<p>13323 rows × 4 columns</p>\n",
              "</div>\n",
              "    <div class=\"colab-df-buttons\">\n",
              "\n",
              "  <div class=\"colab-df-container\">\n",
              "    <button class=\"colab-df-convert\" onclick=\"convertToInteractive('df-986b4500-29eb-4821-aa16-536c33222b0f')\"\n",
              "            title=\"Convert this dataframe to an interactive table.\"\n",
              "            style=\"display:none;\">\n",
              "\n",
              "  <svg xmlns=\"http://www.w3.org/2000/svg\" height=\"24px\" viewBox=\"0 -960 960 960\">\n",
              "    <path d=\"M120-120v-720h720v720H120Zm60-500h600v-160H180v160Zm220 220h160v-160H400v160Zm0 220h160v-160H400v160ZM180-400h160v-160H180v160Zm440 0h160v-160H620v160ZM180-180h160v-160H180v160Zm440 0h160v-160H620v160Z\"/>\n",
              "  </svg>\n",
              "    </button>\n",
              "\n",
              "  <style>\n",
              "    .colab-df-container {\n",
              "      display:flex;\n",
              "      gap: 12px;\n",
              "    }\n",
              "\n",
              "    .colab-df-convert {\n",
              "      background-color: #E8F0FE;\n",
              "      border: none;\n",
              "      border-radius: 50%;\n",
              "      cursor: pointer;\n",
              "      display: none;\n",
              "      fill: #1967D2;\n",
              "      height: 32px;\n",
              "      padding: 0 0 0 0;\n",
              "      width: 32px;\n",
              "    }\n",
              "\n",
              "    .colab-df-convert:hover {\n",
              "      background-color: #E2EBFA;\n",
              "      box-shadow: 0px 1px 2px rgba(60, 64, 67, 0.3), 0px 1px 3px 1px rgba(60, 64, 67, 0.15);\n",
              "      fill: #174EA6;\n",
              "    }\n",
              "\n",
              "    .colab-df-buttons div {\n",
              "      margin-bottom: 4px;\n",
              "    }\n",
              "\n",
              "    [theme=dark] .colab-df-convert {\n",
              "      background-color: #3B4455;\n",
              "      fill: #D2E3FC;\n",
              "    }\n",
              "\n",
              "    [theme=dark] .colab-df-convert:hover {\n",
              "      background-color: #434B5C;\n",
              "      box-shadow: 0px 1px 3px 1px rgba(0, 0, 0, 0.15);\n",
              "      filter: drop-shadow(0px 1px 2px rgba(0, 0, 0, 0.3));\n",
              "      fill: #FFFFFF;\n",
              "    }\n",
              "  </style>\n",
              "\n",
              "    <script>\n",
              "      const buttonEl =\n",
              "        document.querySelector('#df-986b4500-29eb-4821-aa16-536c33222b0f button.colab-df-convert');\n",
              "      buttonEl.style.display =\n",
              "        google.colab.kernel.accessAllowed ? 'block' : 'none';\n",
              "\n",
              "      async function convertToInteractive(key) {\n",
              "        const element = document.querySelector('#df-986b4500-29eb-4821-aa16-536c33222b0f');\n",
              "        const dataTable =\n",
              "          await google.colab.kernel.invokeFunction('convertToInteractive',\n",
              "                                                    [key], {});\n",
              "        if (!dataTable) return;\n",
              "\n",
              "        const docLinkHtml = 'Like what you see? Visit the ' +\n",
              "          '<a target=\"_blank\" href=https://colab.research.google.com/notebooks/data_table.ipynb>data table notebook</a>'\n",
              "          + ' to learn more about interactive tables.';\n",
              "        element.innerHTML = '';\n",
              "        dataTable['output_type'] = 'display_data';\n",
              "        await google.colab.output.renderOutput(dataTable, element);\n",
              "        const docLink = document.createElement('div');\n",
              "        docLink.innerHTML = docLinkHtml;\n",
              "        element.appendChild(docLink);\n",
              "      }\n",
              "    </script>\n",
              "  </div>\n",
              "\n",
              "\n",
              "<div id=\"df-8d343365-1ce1-4432-bef6-2c7d070e1424\">\n",
              "  <button class=\"colab-df-quickchart\" onclick=\"quickchart('df-8d343365-1ce1-4432-bef6-2c7d070e1424')\"\n",
              "            title=\"Suggest charts\"\n",
              "            style=\"display:none;\">\n",
              "\n",
              "<svg xmlns=\"http://www.w3.org/2000/svg\" height=\"24px\"viewBox=\"0 0 24 24\"\n",
              "     width=\"24px\">\n",
              "    <g>\n",
              "        <path d=\"M19 3H5c-1.1 0-2 .9-2 2v14c0 1.1.9 2 2 2h14c1.1 0 2-.9 2-2V5c0-1.1-.9-2-2-2zM9 17H7v-7h2v7zm4 0h-2V7h2v10zm4 0h-2v-4h2v4z\"/>\n",
              "    </g>\n",
              "</svg>\n",
              "  </button>\n",
              "\n",
              "<style>\n",
              "  .colab-df-quickchart {\n",
              "      --bg-color: #E8F0FE;\n",
              "      --fill-color: #1967D2;\n",
              "      --hover-bg-color: #E2EBFA;\n",
              "      --hover-fill-color: #174EA6;\n",
              "      --disabled-fill-color: #AAA;\n",
              "      --disabled-bg-color: #DDD;\n",
              "  }\n",
              "\n",
              "  [theme=dark] .colab-df-quickchart {\n",
              "      --bg-color: #3B4455;\n",
              "      --fill-color: #D2E3FC;\n",
              "      --hover-bg-color: #434B5C;\n",
              "      --hover-fill-color: #FFFFFF;\n",
              "      --disabled-bg-color: #3B4455;\n",
              "      --disabled-fill-color: #666;\n",
              "  }\n",
              "\n",
              "  .colab-df-quickchart {\n",
              "    background-color: var(--bg-color);\n",
              "    border: none;\n",
              "    border-radius: 50%;\n",
              "    cursor: pointer;\n",
              "    display: none;\n",
              "    fill: var(--fill-color);\n",
              "    height: 32px;\n",
              "    padding: 0;\n",
              "    width: 32px;\n",
              "  }\n",
              "\n",
              "  .colab-df-quickchart:hover {\n",
              "    background-color: var(--hover-bg-color);\n",
              "    box-shadow: 0 1px 2px rgba(60, 64, 67, 0.3), 0 1px 3px 1px rgba(60, 64, 67, 0.15);\n",
              "    fill: var(--button-hover-fill-color);\n",
              "  }\n",
              "\n",
              "  .colab-df-quickchart-complete:disabled,\n",
              "  .colab-df-quickchart-complete:disabled:hover {\n",
              "    background-color: var(--disabled-bg-color);\n",
              "    fill: var(--disabled-fill-color);\n",
              "    box-shadow: none;\n",
              "  }\n",
              "\n",
              "  .colab-df-spinner {\n",
              "    border: 2px solid var(--fill-color);\n",
              "    border-color: transparent;\n",
              "    border-bottom-color: var(--fill-color);\n",
              "    animation:\n",
              "      spin 1s steps(1) infinite;\n",
              "  }\n",
              "\n",
              "  @keyframes spin {\n",
              "    0% {\n",
              "      border-color: transparent;\n",
              "      border-bottom-color: var(--fill-color);\n",
              "      border-left-color: var(--fill-color);\n",
              "    }\n",
              "    20% {\n",
              "      border-color: transparent;\n",
              "      border-left-color: var(--fill-color);\n",
              "      border-top-color: var(--fill-color);\n",
              "    }\n",
              "    30% {\n",
              "      border-color: transparent;\n",
              "      border-left-color: var(--fill-color);\n",
              "      border-top-color: var(--fill-color);\n",
              "      border-right-color: var(--fill-color);\n",
              "    }\n",
              "    40% {\n",
              "      border-color: transparent;\n",
              "      border-right-color: var(--fill-color);\n",
              "      border-top-color: var(--fill-color);\n",
              "    }\n",
              "    60% {\n",
              "      border-color: transparent;\n",
              "      border-right-color: var(--fill-color);\n",
              "    }\n",
              "    80% {\n",
              "      border-color: transparent;\n",
              "      border-right-color: var(--fill-color);\n",
              "      border-bottom-color: var(--fill-color);\n",
              "    }\n",
              "    90% {\n",
              "      border-color: transparent;\n",
              "      border-bottom-color: var(--fill-color);\n",
              "    }\n",
              "  }\n",
              "</style>\n",
              "\n",
              "  <script>\n",
              "    async function quickchart(key) {\n",
              "      const quickchartButtonEl =\n",
              "        document.querySelector('#' + key + ' button');\n",
              "      quickchartButtonEl.disabled = true;  // To prevent multiple clicks.\n",
              "      quickchartButtonEl.classList.add('colab-df-spinner');\n",
              "      try {\n",
              "        const charts = await google.colab.kernel.invokeFunction(\n",
              "            'suggestCharts', [key], {});\n",
              "      } catch (error) {\n",
              "        console.error('Error during call to suggestCharts:', error);\n",
              "      }\n",
              "      quickchartButtonEl.classList.remove('colab-df-spinner');\n",
              "      quickchartButtonEl.classList.add('colab-df-quickchart-complete');\n",
              "    }\n",
              "    (() => {\n",
              "      let quickchartButtonEl =\n",
              "        document.querySelector('#df-8d343365-1ce1-4432-bef6-2c7d070e1424 button');\n",
              "      quickchartButtonEl.style.display =\n",
              "        google.colab.kernel.accessAllowed ? 'block' : 'none';\n",
              "    })();\n",
              "  </script>\n",
              "</div>\n",
              "\n",
              "  <div id=\"id_84c10114-b451-45fc-aac0-6cb3f5484ebc\">\n",
              "    <style>\n",
              "      .colab-df-generate {\n",
              "        background-color: #E8F0FE;\n",
              "        border: none;\n",
              "        border-radius: 50%;\n",
              "        cursor: pointer;\n",
              "        display: none;\n",
              "        fill: #1967D2;\n",
              "        height: 32px;\n",
              "        padding: 0 0 0 0;\n",
              "        width: 32px;\n",
              "      }\n",
              "\n",
              "      .colab-df-generate:hover {\n",
              "        background-color: #E2EBFA;\n",
              "        box-shadow: 0px 1px 2px rgba(60, 64, 67, 0.3), 0px 1px 3px 1px rgba(60, 64, 67, 0.15);\n",
              "        fill: #174EA6;\n",
              "      }\n",
              "\n",
              "      [theme=dark] .colab-df-generate {\n",
              "        background-color: #3B4455;\n",
              "        fill: #D2E3FC;\n",
              "      }\n",
              "\n",
              "      [theme=dark] .colab-df-generate:hover {\n",
              "        background-color: #434B5C;\n",
              "        box-shadow: 0px 1px 3px 1px rgba(0, 0, 0, 0.15);\n",
              "        filter: drop-shadow(0px 1px 2px rgba(0, 0, 0, 0.3));\n",
              "        fill: #FFFFFF;\n",
              "      }\n",
              "    </style>\n",
              "    <button class=\"colab-df-generate\" onclick=\"generateWithVariable('results')\"\n",
              "            title=\"Generate code using this dataframe.\"\n",
              "            style=\"display:none;\">\n",
              "\n",
              "  <svg xmlns=\"http://www.w3.org/2000/svg\" height=\"24px\"viewBox=\"0 0 24 24\"\n",
              "       width=\"24px\">\n",
              "    <path d=\"M7,19H8.4L18.45,9,17,7.55,7,17.6ZM5,21V16.75L18.45,3.32a2,2,0,0,1,2.83,0l1.4,1.43a1.91,1.91,0,0,1,.58,1.4,1.91,1.91,0,0,1-.58,1.4L9.25,21ZM18.45,9,17,7.55Zm-12,3A5.31,5.31,0,0,0,4.9,8.1,5.31,5.31,0,0,0,1,6.5,5.31,5.31,0,0,0,4.9,4.9,5.31,5.31,0,0,0,6.5,1,5.31,5.31,0,0,0,8.1,4.9,5.31,5.31,0,0,0,12,6.5,5.46,5.46,0,0,0,6.5,12Z\"/>\n",
              "  </svg>\n",
              "    </button>\n",
              "    <script>\n",
              "      (() => {\n",
              "      const buttonEl =\n",
              "        document.querySelector('#id_84c10114-b451-45fc-aac0-6cb3f5484ebc button.colab-df-generate');\n",
              "      buttonEl.style.display =\n",
              "        google.colab.kernel.accessAllowed ? 'block' : 'none';\n",
              "\n",
              "      buttonEl.onclick = () => {\n",
              "        google.colab.notebook.generateWithVariable('results');\n",
              "      }\n",
              "      })();\n",
              "    </script>\n",
              "  </div>\n",
              "\n",
              "    </div>\n",
              "  </div>\n"
            ],
            "application/vnd.google.colaboratory.intrinsic+json": {
              "type": "dataframe",
              "variable_name": "results",
              "summary": "{\n  \"name\": \"results\",\n  \"rows\": 13323,\n  \"fields\": [\n    {\n      \"column\": \"text\",\n      \"properties\": {\n        \"dtype\": \"string\",\n        \"num_unique_values\": 12251,\n        \"samples\": [\n          \"With Group sales of CHF 32 billion ( +6.0 % ) in the reporting year, Migros exceeded its previous sales record set in 2022.\",\n          \"Other assumptions that influence the calculations are average op- erating hours per year and efficiency gains, which are based on external data analysis.\",\n          \"Moving forward, ABB aims to enhance data sufficiency and integration for a more transparent and comprehensive sustainability footprint.\"\n        ],\n        \"semantic_type\": \"\",\n        \"description\": \"\"\n      }\n    },\n    {\n      \"column\": \"environmental\",\n      \"properties\": {\n        \"dtype\": \"category\",\n        \"num_unique_values\": 2,\n        \"samples\": [\n          \"none\",\n          \"environmental\"\n        ],\n        \"semantic_type\": \"\",\n        \"description\": \"\"\n      }\n    },\n    {\n      \"column\": \"action\",\n      \"properties\": {\n        \"dtype\": \"category\",\n        \"num_unique_values\": 2,\n        \"samples\": [\n          \"action\",\n          \"none\"\n        ],\n        \"semantic_type\": \"\",\n        \"description\": \"\"\n      }\n    },\n    {\n      \"column\": \"company\",\n      \"properties\": {\n        \"dtype\": \"category\",\n        \"num_unique_values\": 4,\n        \"samples\": [\n          \"Coop\",\n          \"UBS\"\n        ],\n        \"semantic_type\": \"\",\n        \"description\": \"\"\n      }\n    }\n  ]\n}"
            }
          },
          "metadata": {},
          "execution_count": 20
        }
      ]
    },
    {
      "cell_type": "markdown",
      "source": [
        "#### Let's see:\n",
        " 1. how much does the company talk about “environmental” topics in general and\n",
        " 2. how much does it talk about “environmental actions”?"
      ],
      "metadata": {
        "id": "HVdQimqVisVy"
      }
    },
    {
      "cell_type": "code",
      "source": [
        "def calculatePercentages(classified_df, output_csv=\"percentages_summary.csv\"):\n",
        "    \"\"\"\n",
        "    Calculate percentages of sentences addressing environmental topics and actions for each company\n",
        "    and save the results to a CSV file.\n",
        "\n",
        "    Args:\n",
        "    classified_df (pd.DataFrame): DataFrame containing sentences and their classifications for all companies.\n",
        "    output_csv (str): Path to save the summary results as a CSV file.\n",
        "\n",
        "    Returns:\n",
        "    pd.DataFrame: A DataFrame summarizing percentages for each company.\n",
        "    \"\"\"\n",
        "    percentages = []  # To store percentage calculations\n",
        "\n",
        "    # Group by company to calculate percentages for each company\n",
        "    grouped = classified_df.groupby(\"company\")\n",
        "    for company_name, group in grouped:\n",
        "        total_sentences = group.shape[0]\n",
        "        env_sentences = group[group[\"environmental\"] == \"environmental\"].shape[0]\n",
        "        action_sentences = group[group[\"action\"] == \"action\"].shape[0]\n",
        "\n",
        "        # Calculate percentages\n",
        "        env_pct = env_sentences / total_sentences if total_sentences > 0 else 0\n",
        "        action_pct = action_sentences / total_sentences if total_sentences > 0 else 0\n",
        "\n",
        "        # Append results to the list\n",
        "        percentages.append({\n",
        "            \"company\": company_name,\n",
        "            \"total_sentences\": total_sentences,\n",
        "            \"environmental_sentences\": env_sentences,\n",
        "            \"action_sentences\": action_sentences,\n",
        "            \"environmental_percentage\": env_pct,\n",
        "            \"action_percentage\": action_pct,\n",
        "        })\n",
        "\n",
        "    # Convert the results into a DataFrame\n",
        "    summary_df = pd.DataFrame(percentages)\n",
        "\n",
        "    # Save to CSV\n",
        "    summary_df.to_csv(output_csv, index=False)\n",
        "    print(f\"Percentages saved to {output_csv}\")\n",
        "\n",
        "    return summary_df\n"
      ],
      "metadata": {
        "id": "5xwh3SZ2iNBC"
      },
      "execution_count": null,
      "outputs": []
    },
    {
      "cell_type": "code",
      "source": [
        "summary_df = calculatePercentages(results, output_csv=\"classification_percentages.csv\")\n",
        "print(summary_df)"
      ],
      "metadata": {
        "colab": {
          "base_uri": "https://localhost:8080/"
        },
        "id": "VCIAYUKeiPPe",
        "outputId": "df598664-0361-4b36-fb0c-4094f8896cd3"
      },
      "execution_count": null,
      "outputs": [
        {
          "output_type": "stream",
          "name": "stdout",
          "text": [
            "Percentages saved to classification_percentages.csv\n",
            "  company  total_sentences  environmental_sentences  action_sentences  \\\n",
            "0     ABB             4365                     1988               628   \n",
            "1    Coop             2261                      239                55   \n",
            "2  Migros             1378                       75                33   \n",
            "3     UBS             5319                     3224              1104   \n",
            "\n",
            "   environmental_percentage  action_percentage  \n",
            "0                  0.455441           0.143872  \n",
            "1                  0.105705           0.024326  \n",
            "2                  0.054427           0.023948  \n",
            "3                  0.606129           0.207558  \n"
          ]
        }
      ]
    },
    {
      "cell_type": "markdown",
      "source": [
        "### Step5. Visualize the classification results."
      ],
      "metadata": {
        "id": "hHGsdAiBIcXR"
      }
    },
    {
      "cell_type": "code",
      "source": [
        "import plotly.graph_objects as go\n",
        "import numpy as np\n",
        "\n",
        "def visualizePercentages(summary_df):\n",
        "    \"\"\"\n",
        "    Visualize the percentages of environmental and environmental action sentences\n",
        "    for multiple companies using predefined colors, white background, and Times New Roman font.\n",
        "\n",
        "    Args:\n",
        "    summary_df (pd.DataFrame): DataFrame summarizing percentages for each company.\n",
        "    \"\"\"\n",
        "    # Extract data for visualization\n",
        "    categories = summary_df['company'].tolist()\n",
        "    values1 = summary_df['environmental_percentage'].tolist()\n",
        "    values2 = summary_df['action_percentage'].tolist()\n",
        "\n",
        "    bar_width = 0.30\n",
        "\n",
        "    # Set the positions of the bars on the x-axis\n",
        "    r1 = np.arange(len(categories))\n",
        "    r2 = [x + bar_width for x in r1]\n",
        "\n",
        "    # Define colors\n",
        "    color1 = \"#FFC845\"  # Blue (environmental)\n",
        "    color2 = \"#3062FF\"  # Green (environmental action)\n",
        "\n",
        "    # Create traces\n",
        "    trace1 = go.Bar(\n",
        "        x=categories,\n",
        "        y=values1,\n",
        "        name='Environmental',\n",
        "        marker_color=color1\n",
        "    )\n",
        "\n",
        "    trace2 = go.Bar(\n",
        "        x=categories,\n",
        "        y=values2,\n",
        "        name='Environmental Action',\n",
        "        marker_color=color2\n",
        "    )\n",
        "\n",
        "    # Create the layout\n",
        "    layout = go.Layout(\n",
        "        title=dict(\n",
        "            text='Environmental and Action Percentages by Company',\n",
        "            font=dict(family='Times New Roman', size=20)\n",
        "        ),\n",
        "        barmode='group',\n",
        "        xaxis=dict(\n",
        "            title='Company',\n",
        "            titlefont=dict(family='Times New Roman', size=16),\n",
        "            tickfont=dict(family='Times New Roman', size=14)\n",
        "        ),\n",
        "        yaxis=dict(\n",
        "            title='Percentages',\n",
        "            titlefont=dict(family='Times New Roman', size=16),\n",
        "            tickfont=dict(family='Times New Roman', size=14),\n",
        "            tickformat=\".0%\",\n",
        "            showgrid=True,\n",
        "            gridcolor='lightgrey',\n",
        "            gridwidth=0.5\n",
        "        ),\n",
        "        legend=dict(\n",
        "            title=dict(\n",
        "                font=dict(family='Times New Roman', size=14)\n",
        "            ),\n",
        "            font=dict(family='Times New Roman', size=12)\n",
        "        ),\n",
        "        paper_bgcolor='white',  # White background\n",
        "        plot_bgcolor='white'\n",
        "    )\n",
        "\n",
        "    fig = go.Figure(data=[trace1, trace2], layout=layout)\n",
        "\n",
        "    fig.show()"
      ],
      "metadata": {
        "id": "xSPpb-p8Dsqx"
      },
      "execution_count": null,
      "outputs": []
    },
    {
      "cell_type": "code",
      "source": [
        "visualizePercentages(summary_df)"
      ],
      "metadata": {
        "colab": {
          "base_uri": "https://localhost:8080/",
          "height": 542
        },
        "id": "KkAZZvXTjbYH",
        "outputId": "adb588fd-fa2c-439e-85ac-3c5955085073"
      },
      "execution_count": null,
      "outputs": [
        {
          "output_type": "display_data",
          "data": {
            "text/html": [
              "<html>\n",
              "<head><meta charset=\"utf-8\" /></head>\n",
              "<body>\n",
              "    <div>            <script src=\"https://cdnjs.cloudflare.com/ajax/libs/mathjax/2.7.5/MathJax.js?config=TeX-AMS-MML_SVG\"></script><script type=\"text/javascript\">if (window.MathJax && window.MathJax.Hub && window.MathJax.Hub.Config) {window.MathJax.Hub.Config({SVG: {font: \"STIX-Web\"}});}</script>                <script type=\"text/javascript\">window.PlotlyConfig = {MathJaxConfig: 'local'};</script>\n",
              "        <script charset=\"utf-8\" src=\"https://cdn.plot.ly/plotly-2.35.2.min.js\"></script>                <div id=\"b4bfe317-89c5-40cd-af3f-ffec78ce0467\" class=\"plotly-graph-div\" style=\"height:525px; width:100%;\"></div>            <script type=\"text/javascript\">                                    window.PLOTLYENV=window.PLOTLYENV || {};                                    if (document.getElementById(\"b4bfe317-89c5-40cd-af3f-ffec78ce0467\")) {                    Plotly.newPlot(                        \"b4bfe317-89c5-40cd-af3f-ffec78ce0467\",                        [{\"marker\":{\"color\":\"#FFC845\"},\"name\":\"Environmental\",\"x\":[\"ABB\",\"Coop\",\"Migros\",\"UBS\"],\"y\":[0.4554410080183276,0.10570544007076514,0.054426705370101594,0.6061289716112052],\"type\":\"bar\"},{\"marker\":{\"color\":\"#3062FF\"},\"name\":\"Environmental Action\",\"x\":[\"ABB\",\"Coop\",\"Migros\",\"UBS\"],\"y\":[0.14387170675830468,0.024325519681556832,0.023947750362844702,0.20755781161872533],\"type\":\"bar\"}],                        {\"barmode\":\"group\",\"legend\":{\"font\":{\"family\":\"Times New Roman\",\"size\":12},\"title\":{\"font\":{\"family\":\"Times New Roman\",\"size\":14}}},\"paper_bgcolor\":\"white\",\"plot_bgcolor\":\"white\",\"title\":{\"font\":{\"family\":\"Times New Roman\",\"size\":20},\"text\":\"Environmental and Action Percentages by Company\"},\"xaxis\":{\"tickfont\":{\"family\":\"Times New Roman\",\"size\":14},\"title\":{\"font\":{\"family\":\"Times New Roman\",\"size\":16},\"text\":\"Company\"}},\"yaxis\":{\"gridcolor\":\"lightgrey\",\"gridwidth\":0.5,\"showgrid\":true,\"tickfont\":{\"family\":\"Times New Roman\",\"size\":14},\"tickformat\":\".0%\",\"title\":{\"font\":{\"family\":\"Times New Roman\",\"size\":16},\"text\":\"Percentages\"}},\"template\":{\"data\":{\"histogram2dcontour\":[{\"type\":\"histogram2dcontour\",\"colorbar\":{\"outlinewidth\":0,\"ticks\":\"\"},\"colorscale\":[[0.0,\"#0d0887\"],[0.1111111111111111,\"#46039f\"],[0.2222222222222222,\"#7201a8\"],[0.3333333333333333,\"#9c179e\"],[0.4444444444444444,\"#bd3786\"],[0.5555555555555556,\"#d8576b\"],[0.6666666666666666,\"#ed7953\"],[0.7777777777777778,\"#fb9f3a\"],[0.8888888888888888,\"#fdca26\"],[1.0,\"#f0f921\"]]}],\"choropleth\":[{\"type\":\"choropleth\",\"colorbar\":{\"outlinewidth\":0,\"ticks\":\"\"}}],\"histogram2d\":[{\"type\":\"histogram2d\",\"colorbar\":{\"outlinewidth\":0,\"ticks\":\"\"},\"colorscale\":[[0.0,\"#0d0887\"],[0.1111111111111111,\"#46039f\"],[0.2222222222222222,\"#7201a8\"],[0.3333333333333333,\"#9c179e\"],[0.4444444444444444,\"#bd3786\"],[0.5555555555555556,\"#d8576b\"],[0.6666666666666666,\"#ed7953\"],[0.7777777777777778,\"#fb9f3a\"],[0.8888888888888888,\"#fdca26\"],[1.0,\"#f0f921\"]]}],\"heatmap\":[{\"type\":\"heatmap\",\"colorbar\":{\"outlinewidth\":0,\"ticks\":\"\"},\"colorscale\":[[0.0,\"#0d0887\"],[0.1111111111111111,\"#46039f\"],[0.2222222222222222,\"#7201a8\"],[0.3333333333333333,\"#9c179e\"],[0.4444444444444444,\"#bd3786\"],[0.5555555555555556,\"#d8576b\"],[0.6666666666666666,\"#ed7953\"],[0.7777777777777778,\"#fb9f3a\"],[0.8888888888888888,\"#fdca26\"],[1.0,\"#f0f921\"]]}],\"heatmapgl\":[{\"type\":\"heatmapgl\",\"colorbar\":{\"outlinewidth\":0,\"ticks\":\"\"},\"colorscale\":[[0.0,\"#0d0887\"],[0.1111111111111111,\"#46039f\"],[0.2222222222222222,\"#7201a8\"],[0.3333333333333333,\"#9c179e\"],[0.4444444444444444,\"#bd3786\"],[0.5555555555555556,\"#d8576b\"],[0.6666666666666666,\"#ed7953\"],[0.7777777777777778,\"#fb9f3a\"],[0.8888888888888888,\"#fdca26\"],[1.0,\"#f0f921\"]]}],\"contourcarpet\":[{\"type\":\"contourcarpet\",\"colorbar\":{\"outlinewidth\":0,\"ticks\":\"\"}}],\"contour\":[{\"type\":\"contour\",\"colorbar\":{\"outlinewidth\":0,\"ticks\":\"\"},\"colorscale\":[[0.0,\"#0d0887\"],[0.1111111111111111,\"#46039f\"],[0.2222222222222222,\"#7201a8\"],[0.3333333333333333,\"#9c179e\"],[0.4444444444444444,\"#bd3786\"],[0.5555555555555556,\"#d8576b\"],[0.6666666666666666,\"#ed7953\"],[0.7777777777777778,\"#fb9f3a\"],[0.8888888888888888,\"#fdca26\"],[1.0,\"#f0f921\"]]}],\"surface\":[{\"type\":\"surface\",\"colorbar\":{\"outlinewidth\":0,\"ticks\":\"\"},\"colorscale\":[[0.0,\"#0d0887\"],[0.1111111111111111,\"#46039f\"],[0.2222222222222222,\"#7201a8\"],[0.3333333333333333,\"#9c179e\"],[0.4444444444444444,\"#bd3786\"],[0.5555555555555556,\"#d8576b\"],[0.6666666666666666,\"#ed7953\"],[0.7777777777777778,\"#fb9f3a\"],[0.8888888888888888,\"#fdca26\"],[1.0,\"#f0f921\"]]}],\"mesh3d\":[{\"type\":\"mesh3d\",\"colorbar\":{\"outlinewidth\":0,\"ticks\":\"\"}}],\"scatter\":[{\"fillpattern\":{\"fillmode\":\"overlay\",\"size\":10,\"solidity\":0.2},\"type\":\"scatter\"}],\"parcoords\":[{\"type\":\"parcoords\",\"line\":{\"colorbar\":{\"outlinewidth\":0,\"ticks\":\"\"}}}],\"scatterpolargl\":[{\"type\":\"scatterpolargl\",\"marker\":{\"colorbar\":{\"outlinewidth\":0,\"ticks\":\"\"}}}],\"bar\":[{\"error_x\":{\"color\":\"#2a3f5f\"},\"error_y\":{\"color\":\"#2a3f5f\"},\"marker\":{\"line\":{\"color\":\"#E5ECF6\",\"width\":0.5},\"pattern\":{\"fillmode\":\"overlay\",\"size\":10,\"solidity\":0.2}},\"type\":\"bar\"}],\"scattergeo\":[{\"type\":\"scattergeo\",\"marker\":{\"colorbar\":{\"outlinewidth\":0,\"ticks\":\"\"}}}],\"scatterpolar\":[{\"type\":\"scatterpolar\",\"marker\":{\"colorbar\":{\"outlinewidth\":0,\"ticks\":\"\"}}}],\"histogram\":[{\"marker\":{\"pattern\":{\"fillmode\":\"overlay\",\"size\":10,\"solidity\":0.2}},\"type\":\"histogram\"}],\"scattergl\":[{\"type\":\"scattergl\",\"marker\":{\"colorbar\":{\"outlinewidth\":0,\"ticks\":\"\"}}}],\"scatter3d\":[{\"type\":\"scatter3d\",\"line\":{\"colorbar\":{\"outlinewidth\":0,\"ticks\":\"\"}},\"marker\":{\"colorbar\":{\"outlinewidth\":0,\"ticks\":\"\"}}}],\"scattermapbox\":[{\"type\":\"scattermapbox\",\"marker\":{\"colorbar\":{\"outlinewidth\":0,\"ticks\":\"\"}}}],\"scatterternary\":[{\"type\":\"scatterternary\",\"marker\":{\"colorbar\":{\"outlinewidth\":0,\"ticks\":\"\"}}}],\"scattercarpet\":[{\"type\":\"scattercarpet\",\"marker\":{\"colorbar\":{\"outlinewidth\":0,\"ticks\":\"\"}}}],\"carpet\":[{\"aaxis\":{\"endlinecolor\":\"#2a3f5f\",\"gridcolor\":\"white\",\"linecolor\":\"white\",\"minorgridcolor\":\"white\",\"startlinecolor\":\"#2a3f5f\"},\"baxis\":{\"endlinecolor\":\"#2a3f5f\",\"gridcolor\":\"white\",\"linecolor\":\"white\",\"minorgridcolor\":\"white\",\"startlinecolor\":\"#2a3f5f\"},\"type\":\"carpet\"}],\"table\":[{\"cells\":{\"fill\":{\"color\":\"#EBF0F8\"},\"line\":{\"color\":\"white\"}},\"header\":{\"fill\":{\"color\":\"#C8D4E3\"},\"line\":{\"color\":\"white\"}},\"type\":\"table\"}],\"barpolar\":[{\"marker\":{\"line\":{\"color\":\"#E5ECF6\",\"width\":0.5},\"pattern\":{\"fillmode\":\"overlay\",\"size\":10,\"solidity\":0.2}},\"type\":\"barpolar\"}],\"pie\":[{\"automargin\":true,\"type\":\"pie\"}]},\"layout\":{\"autotypenumbers\":\"strict\",\"colorway\":[\"#636efa\",\"#EF553B\",\"#00cc96\",\"#ab63fa\",\"#FFA15A\",\"#19d3f3\",\"#FF6692\",\"#B6E880\",\"#FF97FF\",\"#FECB52\"],\"font\":{\"color\":\"#2a3f5f\"},\"hovermode\":\"closest\",\"hoverlabel\":{\"align\":\"left\"},\"paper_bgcolor\":\"white\",\"plot_bgcolor\":\"#E5ECF6\",\"polar\":{\"bgcolor\":\"#E5ECF6\",\"angularaxis\":{\"gridcolor\":\"white\",\"linecolor\":\"white\",\"ticks\":\"\"},\"radialaxis\":{\"gridcolor\":\"white\",\"linecolor\":\"white\",\"ticks\":\"\"}},\"ternary\":{\"bgcolor\":\"#E5ECF6\",\"aaxis\":{\"gridcolor\":\"white\",\"linecolor\":\"white\",\"ticks\":\"\"},\"baxis\":{\"gridcolor\":\"white\",\"linecolor\":\"white\",\"ticks\":\"\"},\"caxis\":{\"gridcolor\":\"white\",\"linecolor\":\"white\",\"ticks\":\"\"}},\"coloraxis\":{\"colorbar\":{\"outlinewidth\":0,\"ticks\":\"\"}},\"colorscale\":{\"sequential\":[[0.0,\"#0d0887\"],[0.1111111111111111,\"#46039f\"],[0.2222222222222222,\"#7201a8\"],[0.3333333333333333,\"#9c179e\"],[0.4444444444444444,\"#bd3786\"],[0.5555555555555556,\"#d8576b\"],[0.6666666666666666,\"#ed7953\"],[0.7777777777777778,\"#fb9f3a\"],[0.8888888888888888,\"#fdca26\"],[1.0,\"#f0f921\"]],\"sequentialminus\":[[0.0,\"#0d0887\"],[0.1111111111111111,\"#46039f\"],[0.2222222222222222,\"#7201a8\"],[0.3333333333333333,\"#9c179e\"],[0.4444444444444444,\"#bd3786\"],[0.5555555555555556,\"#d8576b\"],[0.6666666666666666,\"#ed7953\"],[0.7777777777777778,\"#fb9f3a\"],[0.8888888888888888,\"#fdca26\"],[1.0,\"#f0f921\"]],\"diverging\":[[0,\"#8e0152\"],[0.1,\"#c51b7d\"],[0.2,\"#de77ae\"],[0.3,\"#f1b6da\"],[0.4,\"#fde0ef\"],[0.5,\"#f7f7f7\"],[0.6,\"#e6f5d0\"],[0.7,\"#b8e186\"],[0.8,\"#7fbc41\"],[0.9,\"#4d9221\"],[1,\"#276419\"]]},\"xaxis\":{\"gridcolor\":\"white\",\"linecolor\":\"white\",\"ticks\":\"\",\"title\":{\"standoff\":15},\"zerolinecolor\":\"white\",\"automargin\":true,\"zerolinewidth\":2},\"yaxis\":{\"gridcolor\":\"white\",\"linecolor\":\"white\",\"ticks\":\"\",\"title\":{\"standoff\":15},\"zerolinecolor\":\"white\",\"automargin\":true,\"zerolinewidth\":2},\"scene\":{\"xaxis\":{\"backgroundcolor\":\"#E5ECF6\",\"gridcolor\":\"white\",\"linecolor\":\"white\",\"showbackground\":true,\"ticks\":\"\",\"zerolinecolor\":\"white\",\"gridwidth\":2},\"yaxis\":{\"backgroundcolor\":\"#E5ECF6\",\"gridcolor\":\"white\",\"linecolor\":\"white\",\"showbackground\":true,\"ticks\":\"\",\"zerolinecolor\":\"white\",\"gridwidth\":2},\"zaxis\":{\"backgroundcolor\":\"#E5ECF6\",\"gridcolor\":\"white\",\"linecolor\":\"white\",\"showbackground\":true,\"ticks\":\"\",\"zerolinecolor\":\"white\",\"gridwidth\":2}},\"shapedefaults\":{\"line\":{\"color\":\"#2a3f5f\"}},\"annotationdefaults\":{\"arrowcolor\":\"#2a3f5f\",\"arrowhead\":0,\"arrowwidth\":1},\"geo\":{\"bgcolor\":\"white\",\"landcolor\":\"#E5ECF6\",\"subunitcolor\":\"white\",\"showland\":true,\"showlakes\":true,\"lakecolor\":\"white\"},\"title\":{\"x\":0.05},\"mapbox\":{\"style\":\"light\"}}}},                        {\"responsive\": true}                    ).then(function(){\n",
              "                            \n",
              "var gd = document.getElementById('b4bfe317-89c5-40cd-af3f-ffec78ce0467');\n",
              "var x = new MutationObserver(function (mutations, observer) {{\n",
              "        var display = window.getComputedStyle(gd).display;\n",
              "        if (!display || display === 'none') {{\n",
              "            console.log([gd, 'removed!']);\n",
              "            Plotly.purge(gd);\n",
              "            observer.disconnect();\n",
              "        }}\n",
              "}});\n",
              "\n",
              "// Listen for the removal of the full notebook cells\n",
              "var notebookContainer = gd.closest('#notebook-container');\n",
              "if (notebookContainer) {{\n",
              "    x.observe(notebookContainer, {childList: true});\n",
              "}}\n",
              "\n",
              "// Listen for the clearing of the current output cell\n",
              "var outputEl = gd.closest('.output');\n",
              "if (outputEl) {{\n",
              "    x.observe(outputEl, {childList: true});\n",
              "}}\n",
              "\n",
              "                        })                };                            </script>        </div>\n",
              "</body>\n",
              "</html>"
            ]
          },
          "metadata": {}
        }
      ]
    },
    {
      "cell_type": "markdown",
      "source": [
        "As shown in figure above, both UBS and ABB's reports contain a much higher proportion of sentences addressing both environmental topics and environmental actions compared to the reports from Coop and Migros.\n",
        "\n",
        "Additionally, there is a consistent gap between the coverage of environmental topics and the focus on environmental actions across all four reports. This suggests that while all companies discuss environmental issues, fewer sentences are dedicated to detailing specific actions being taken."
      ],
      "metadata": {
        "id": "3uk4KJXeKobl"
      }
    }
  ]
}