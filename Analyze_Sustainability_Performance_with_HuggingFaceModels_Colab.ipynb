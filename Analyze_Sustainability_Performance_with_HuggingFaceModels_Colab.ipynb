{
  "nbformat": 4,
  "nbformat_minor": 0,
  "metadata": {
    "colab": {
      "provenance": [],
      "gpuType": "T4"
    },
    "kernelspec": {
      "name": "python3",
      "display_name": "Python 3"
    },
    "language_info": {
      "name": "python"
    },
    "accelerator": "GPU"
  },
  "cells": [
    {
      "cell_type": "markdown",
      "source": [
        "## Sustainability Report Analysis using pre-trained Models from HuggingFace\n",
        "This notebook demonstrates how to classify environmental and action-related content from sustainability reports\n",
        "using pre-trained language models from HuggingFace. The process involves extracting text from PDF reports, segmenting the text into sentences,\n",
        "and classifying these sentences using pre-trained models.\n",
        "\n",
        "The steps are as follows:\n",
        "1. Install necessary packages.:\n",
        "2. Load pre-trained models for classification.\n",
        "3. Extract and segment text from PDFs.\n",
        "4. Run the classification pipeline on sample reports.\n",
        "5. Visualize the classification results."
      ],
      "metadata": {
        "id": "eaqYlKL_Fi8q"
      }
    },
    {
      "cell_type": "markdown",
      "source": [
        "Please set Runtime to GPU in Colab:\n",
        "\n",
        "Go to the menu bar and select <b>Runtime</b> -->Choose <b>Change runtime type</b> -->Select <b>T4 GPU</b>"
      ],
      "metadata": {
        "id": "3fVmBWACVoFH"
      }
    },
    {
      "cell_type": "markdown",
      "source": [
        "### Step1. Install packages and load the models"
      ],
      "metadata": {
        "id": "vCh2kJXx-oA1"
      }
    },
    {
      "cell_type": "code",
      "source": [
        "# Install transformers\n",
        "!pip install transformers"
      ],
      "metadata": {
        "id": "QoJ6wDjTYGdP",
        "colab": {
          "base_uri": "https://localhost:8080/"
        },
        "outputId": "52e66663-9fb1-43c4-94b2-6675b129a4a3"
      },
      "execution_count": null,
      "outputs": [
        {
          "output_type": "stream",
          "name": "stdout",
          "text": [
            "Requirement already satisfied: transformers in /usr/local/lib/python3.10/dist-packages (4.47.1)\n",
            "Requirement already satisfied: filelock in /usr/local/lib/python3.10/dist-packages (from transformers) (3.16.1)\n",
            "Requirement already satisfied: huggingface-hub<1.0,>=0.24.0 in /usr/local/lib/python3.10/dist-packages (from transformers) (0.27.1)\n",
            "Requirement already satisfied: numpy>=1.17 in /usr/local/lib/python3.10/dist-packages (from transformers) (1.26.4)\n",
            "Requirement already satisfied: packaging>=20.0 in /usr/local/lib/python3.10/dist-packages (from transformers) (24.2)\n",
            "Requirement already satisfied: pyyaml>=5.1 in /usr/local/lib/python3.10/dist-packages (from transformers) (6.0.2)\n",
            "Requirement already satisfied: regex!=2019.12.17 in /usr/local/lib/python3.10/dist-packages (from transformers) (2024.11.6)\n",
            "Requirement already satisfied: requests in /usr/local/lib/python3.10/dist-packages (from transformers) (2.32.3)\n",
            "Requirement already satisfied: tokenizers<0.22,>=0.21 in /usr/local/lib/python3.10/dist-packages (from transformers) (0.21.0)\n",
            "Requirement already satisfied: safetensors>=0.4.1 in /usr/local/lib/python3.10/dist-packages (from transformers) (0.5.1)\n",
            "Requirement already satisfied: tqdm>=4.27 in /usr/local/lib/python3.10/dist-packages (from transformers) (4.67.1)\n",
            "Requirement already satisfied: fsspec>=2023.5.0 in /usr/local/lib/python3.10/dist-packages (from huggingface-hub<1.0,>=0.24.0->transformers) (2024.10.0)\n",
            "Requirement already satisfied: typing-extensions>=3.7.4.3 in /usr/local/lib/python3.10/dist-packages (from huggingface-hub<1.0,>=0.24.0->transformers) (4.12.2)\n",
            "Requirement already satisfied: charset-normalizer<4,>=2 in /usr/local/lib/python3.10/dist-packages (from requests->transformers) (3.4.1)\n",
            "Requirement already satisfied: idna<4,>=2.5 in /usr/local/lib/python3.10/dist-packages (from requests->transformers) (3.10)\n",
            "Requirement already satisfied: urllib3<3,>=1.21.1 in /usr/local/lib/python3.10/dist-packages (from requests->transformers) (2.3.0)\n",
            "Requirement already satisfied: certifi>=2017.4.17 in /usr/local/lib/python3.10/dist-packages (from requests->transformers) (2024.12.14)\n"
          ]
        }
      ]
    },
    {
      "cell_type": "code",
      "execution_count": null,
      "metadata": {
        "id": "VgPEaZVO-PBl"
      },
      "outputs": [],
      "source": [
        "import pandas as pd\n",
        "import numpy as np\n",
        "import plotly.graph_objects as go\n",
        "import plotly.express as px\n",
        "from transformers import AutoModelForSequenceClassification, AutoTokenizer, pipeline\n",
        "import spacy"
      ]
    },
    {
      "cell_type": "markdown",
      "source": [
        "### Step2. Load pre-trained models from huggingface for classification\n"
      ],
      "metadata": {
        "id": "qqz2fgviEmyS"
      }
    },
    {
      "cell_type": "code",
      "source": [
        "# Load pre-trained model for environmental classification\n",
        "env_model_name = \"ESGBERT/EnvironmentalBERT-environmental\"  # Path to model on Hugging Face\n",
        "tokenizer_env = AutoTokenizer.from_pretrained(env_model_name)\n",
        "model_env = AutoModelForSequenceClassification.from_pretrained(env_model_name)\n",
        "pipe_env = pipeline(\"text-classification\", model=model_env, tokenizer=tokenizer_env, device=0)  # Use GPU\n",
        "\n",
        "# Load pre-trained model for action classification\n",
        "action_model_name = \"ESGBERT/EnvironmentalBERT-action\"\n",
        "tokenizer_act = AutoTokenizer.from_pretrained(action_model_name)\n",
        "model_act = AutoModelForSequenceClassification.from_pretrained(action_model_name)\n",
        "pipe_act = pipeline(\"text-classification\", model=model_act, tokenizer=tokenizer_act, device=0)  # Use GPU"
      ],
      "metadata": {
        "colab": {
          "base_uri": "https://localhost:8080/"
        },
        "id": "0PxIUJl2dQj8",
        "outputId": "65ffb8a1-8400-4b0e-9a8a-8eb6c53beb1d"
      },
      "execution_count": null,
      "outputs": [
        {
          "output_type": "stream",
          "name": "stderr",
          "text": [
            "Device set to use cuda:0\n",
            "Device set to use cuda:0\n"
          ]
        }
      ]
    },
    {
      "cell_type": "markdown",
      "source": [
        "Test the classification models with some sentences:"
      ],
      "metadata": {
        "id": "VS9LkMZZXPEY"
      }
    },
    {
      "cell_type": "code",
      "source": [
        "# \"environmental\" classification\n",
        "pipe_env(\"We are really relying on people improving their consumer decisions to fight climate change.\")"
      ],
      "metadata": {
        "colab": {
          "base_uri": "https://localhost:8080/"
        },
        "id": "TwRellgf_HRK",
        "outputId": "5bb090bf-bc51-449f-97bb-dd4d47bce217"
      },
      "execution_count": null,
      "outputs": [
        {
          "output_type": "execute_result",
          "data": {
            "text/plain": [
              "[{'label': 'environmental', 'score': 0.9977815747261047}]"
            ]
          },
          "metadata": {},
          "execution_count": 7
        }
      ]
    },
    {
      "cell_type": "code",
      "source": [
        "# \"action\" classification\n",
        "pipe_act(\"We planted 7.500 trees in the last 5 years.\")"
      ],
      "metadata": {
        "colab": {
          "base_uri": "https://localhost:8080/"
        },
        "id": "GEyF2Uiw-uH9",
        "outputId": "e57931c9-2dc6-4bc1-bbd6-489935e80b00"
      },
      "execution_count": null,
      "outputs": [
        {
          "output_type": "execute_result",
          "data": {
            "text/plain": [
              "[{'label': 'action', 'score': 0.9999480247497559}]"
            ]
          },
          "metadata": {},
          "execution_count": 8
        }
      ]
    },
    {
      "cell_type": "markdown",
      "source": [
        "### Step3. PDF content extraction using semantic chunking with Unstructured.io.\n",
        "The semantic chunking stage is time-consuming (taking around 2 minutes per page), so I used the processed reports from my previous project. The script, semantic_chunking.py, that I wrote for semantic chunking these reports is located in the same folder as this notebook."
      ],
      "metadata": {
        "id": "_UQFC3dOHqjX"
      }
    },
    {
      "cell_type": "markdown",
      "source": [
        "### Step4. Run the classification pipeline on sample reports.\n",
        "In this pipeline, we will first classify all sentences with the “environmental” model. Then, we will classify all “environmental” sentences with the “action” model."
      ],
      "metadata": {
        "id": "3sc8K2FGgRKj"
      }
    },
    {
      "cell_type": "code",
      "source": [
        "def classifyMultipleCompanies(json_file_paths, pipe_env, pipe_act):\n",
        "    \"\"\"\n",
        "    Process multiple JSON files, classify sentences for environmental and action labels,\n",
        "    and visualize results meaningfully using Plotly.\n",
        "\n",
        "    Args:\n",
        "    json_file_paths (list of str): List of file paths to JSON files for each company.\n",
        "    pipe_env (pipeline): Hugging Face pipeline for environmental classification.\n",
        "    pipe_act (pipeline): Hugging Face pipeline for action classification.\n",
        "\n",
        "    Returns:\n",
        "    pd.DataFrame: A DataFrame containing sentences and their classifications for all companies.\n",
        "    \"\"\"\n",
        "    nlp = spacy.load('en_core_web_sm')\n",
        "    nlp.max_length = 2500000  # Increase max length for large documents\n",
        "\n",
        "    all_results = []  # To store classification results for all companies\n",
        "\n",
        "    for file_path in json_file_paths:\n",
        "        # Load JSON file\n",
        "        with open(file_path, 'r') as f:\n",
        "            json_data = json.load(f)\n",
        "\n",
        "        # Extract text for the company\n",
        "        company_name = json_data[0]['metadata']['filename'].split('_')[0]  # Use part of the filename as company name\n",
        "        company_text = \" \".join([entry[\"text\"] for entry in json_data])\n",
        "\n",
        "        # Segment text into sentences\n",
        "        about_doc = nlp(company_text)\n",
        "        sentences = [str(sent).replace(\"\\n\", \"\").strip() for sent in about_doc.sents if sent.text.strip()]\n",
        "\n",
        "        # Classify sentences as environmental\n",
        "        env_classifications = pipe_env(sentences, padding=True, truncation=True, batch_size=16)\n",
        "        env_labels = [x[\"label\"] for x in env_classifications]\n",
        "        df = pd.DataFrame({\"text\": sentences, \"environmental\": env_labels})\n",
        "\n",
        "        # Filter environmental sentences and classify actions\n",
        "        df_env = df.loc[df[\"environmental\"] == \"environmental\"].copy()\n",
        "        if not df_env.empty:\n",
        "            action_classifications = pipe_act(df_env.text.to_list(), padding=True, truncation=True, batch_size=16)\n",
        "            df_env[\"action\"] = [x[\"label\"] for x in action_classifications]\n",
        "        else:\n",
        "            df_env[\"action\"] = None\n",
        "\n",
        "        # Merge action results back into the main DataFrame\n",
        "        df = df.merge(df_env[[\"text\", \"action\"]], on=\"text\", how=\"left\")\n",
        "\n",
        "        # Add company name to results\n",
        "        df[\"company\"] = company_name\n",
        "        all_results.append(df)\n",
        "\n",
        "    # Combine results for all companies into a single DataFrame\n",
        "    combined_results = pd.concat(all_results, ignore_index=True)\n",
        "    return combined_results"
      ],
      "metadata": {
        "id": "FIgTHau2dZ9L"
      },
      "execution_count": null,
      "outputs": []
    },
    {
      "cell_type": "code",
      "source": [
        "results = classifyMultipleCompanies(json_file_paths, pipe_env, pipe_act)"
      ],
      "metadata": {
        "id": "MUVIVojlhSqC"
      },
      "execution_count": null,
      "outputs": []
    },
    {
      "cell_type": "code",
      "source": [
        "results"
      ],
      "metadata": {
        "colab": {
          "base_uri": "https://localhost:8080/",
          "height": 901
        },
        "id": "Pv2wGeJ8hMgA",
        "outputId": "bc7f4ce4-4e16-479d-b5c4-11ce5608302a"
      },
      "execution_count": null,
      "outputs": [
        {
          "output_type": "execute_result",
          "data": {
            "text/plain": [
              "                                                    text  environmental  \\\n",
              "0      y  3  t  i  2  l  i  0  b  2  a     n  t  i  r...  environmental   \n",
              "1                                          The ABB Way21           none   \n",
              "2      We enable a low-carbon society08 Sustainabilit...  environmental   \n",
              "3      We promote social progress44 Health and safety...           none   \n",
              "4      We embed a culture of integrity and transparen...  environmental   \n",
              "...                                                  ...            ...   \n",
              "13318  Information about absolute changes between rep...           none   \n",
              "13319  Tables | Within tables, blank fields generally...           none   \n",
              "13320  Zero values generally indicate that the respec...           none   \n",
              "13321  Percentage changes are presented as a mathemat...           none   \n",
              "13322  Sustainability Report 2023 | Appendix 4 | Othe...  environmental   \n",
              "\n",
              "      action company  \n",
              "0       none     ABB  \n",
              "1        NaN     ABB  \n",
              "2       none     ABB  \n",
              "3        NaN     ABB  \n",
              "4       none     ABB  \n",
              "...      ...     ...  \n",
              "13318    NaN     UBS  \n",
              "13319    NaN     UBS  \n",
              "13320    NaN     UBS  \n",
              "13321    NaN     UBS  \n",
              "13322   none     UBS  \n",
              "\n",
              "[13323 rows x 4 columns]"
            ],
            "text/html": [
              "\n",
              "  <div id=\"df-986b4500-29eb-4821-aa16-536c33222b0f\" class=\"colab-df-container\">\n",
              "    <div>\n",
              "<style scoped>\n",
              "    .dataframe tbody tr th:only-of-type {\n",
              "        vertical-align: middle;\n",
              "    }\n",
              "\n",
              "    .dataframe tbody tr th {\n",
              "        vertical-align: top;\n",
              "    }\n",
              "\n",
              "    .dataframe thead th {\n",
              "        text-align: right;\n",
              "    }\n",
              "</style>\n",
              "<table border=\"1\" class=\"dataframe\">\n",
              "  <thead>\n",
              "    <tr style=\"text-align: right;\">\n",
              "      <th></th>\n",
              "      <th>text</th>\n",
              "      <th>environmental</th>\n",
              "      <th>action</th>\n",
              "      <th>company</th>\n",
              "    </tr>\n",
              "  </thead>\n",
              "  <tbody>\n",
              "    <tr>\n",
              "      <th>0</th>\n",
              "      <td>y  3  t  i  2  l  i  0  b  2  a     n  t  i  r...</td>\n",
              "      <td>environmental</td>\n",
              "      <td>none</td>\n",
              "      <td>ABB</td>\n",
              "    </tr>\n",
              "    <tr>\n",
              "      <th>1</th>\n",
              "      <td>The ABB Way21</td>\n",
              "      <td>none</td>\n",
              "      <td>NaN</td>\n",
              "      <td>ABB</td>\n",
              "    </tr>\n",
              "    <tr>\n",
              "      <th>2</th>\n",
              "      <td>We enable a low-carbon society08 Sustainabilit...</td>\n",
              "      <td>environmental</td>\n",
              "      <td>none</td>\n",
              "      <td>ABB</td>\n",
              "    </tr>\n",
              "    <tr>\n",
              "      <th>3</th>\n",
              "      <td>We promote social progress44 Health and safety...</td>\n",
              "      <td>none</td>\n",
              "      <td>NaN</td>\n",
              "      <td>ABB</td>\n",
              "    </tr>\n",
              "    <tr>\n",
              "      <th>4</th>\n",
              "      <td>We embed a culture of integrity and transparen...</td>\n",
              "      <td>environmental</td>\n",
              "      <td>none</td>\n",
              "      <td>ABB</td>\n",
              "    </tr>\n",
              "    <tr>\n",
              "      <th>...</th>\n",
              "      <td>...</td>\n",
              "      <td>...</td>\n",
              "      <td>...</td>\n",
              "      <td>...</td>\n",
              "    </tr>\n",
              "    <tr>\n",
              "      <th>13318</th>\n",
              "      <td>Information about absolute changes between rep...</td>\n",
              "      <td>none</td>\n",
              "      <td>NaN</td>\n",
              "      <td>UBS</td>\n",
              "    </tr>\n",
              "    <tr>\n",
              "      <th>13319</th>\n",
              "      <td>Tables | Within tables, blank fields generally...</td>\n",
              "      <td>none</td>\n",
              "      <td>NaN</td>\n",
              "      <td>UBS</td>\n",
              "    </tr>\n",
              "    <tr>\n",
              "      <th>13320</th>\n",
              "      <td>Zero values generally indicate that the respec...</td>\n",
              "      <td>none</td>\n",
              "      <td>NaN</td>\n",
              "      <td>UBS</td>\n",
              "    </tr>\n",
              "    <tr>\n",
              "      <th>13321</th>\n",
              "      <td>Percentage changes are presented as a mathemat...</td>\n",
              "      <td>none</td>\n",
              "      <td>NaN</td>\n",
              "      <td>UBS</td>\n",
              "    </tr>\n",
              "    <tr>\n",
              "      <th>13322</th>\n",
              "      <td>Sustainability Report 2023 | Appendix 4 | Othe...</td>\n",
              "      <td>environmental</td>\n",
              "      <td>none</td>\n",
              "      <td>UBS</td>\n",
              "    </tr>\n",
              "  </tbody>\n",
              "</table>\n",
              "<p>13323 rows × 4 columns</p>\n",
              "</div>\n",
              "    <div class=\"colab-df-buttons\">\n",
              "\n",
              "  <div class=\"colab-df-container\">\n",
              "    <button class=\"colab-df-convert\" onclick=\"convertToInteractive('df-986b4500-29eb-4821-aa16-536c33222b0f')\"\n",
              "            title=\"Convert this dataframe to an interactive table.\"\n",
              "            style=\"display:none;\">\n",
              "\n",
              "  <svg xmlns=\"http://www.w3.org/2000/svg\" height=\"24px\" viewBox=\"0 -960 960 960\">\n",
              "    <path d=\"M120-120v-720h720v720H120Zm60-500h600v-160H180v160Zm220 220h160v-160H400v160Zm0 220h160v-160H400v160ZM180-400h160v-160H180v160Zm440 0h160v-160H620v160ZM180-180h160v-160H180v160Zm440 0h160v-160H620v160Z\"/>\n",
              "  </svg>\n",
              "    </button>\n",
              "\n",
              "  <style>\n",
              "    .colab-df-container {\n",
              "      display:flex;\n",
              "      gap: 12px;\n",
              "    }\n",
              "\n",
              "    .colab-df-convert {\n",
              "      background-color: #E8F0FE;\n",
              "      border: none;\n",
              "      border-radius: 50%;\n",
              "      cursor: pointer;\n",
              "      display: none;\n",
              "      fill: #1967D2;\n",
              "      height: 32px;\n",
              "      padding: 0 0 0 0;\n",
              "      width: 32px;\n",
              "    }\n",
              "\n",
              "    .colab-df-convert:hover {\n",
              "      background-color: #E2EBFA;\n",
              "      box-shadow: 0px 1px 2px rgba(60, 64, 67, 0.3), 0px 1px 3px 1px rgba(60, 64, 67, 0.15);\n",
              "      fill: #174EA6;\n",
              "    }\n",
              "\n",
              "    .colab-df-buttons div {\n",
              "      margin-bottom: 4px;\n",
              "    }\n",
              "\n",
              "    [theme=dark] .colab-df-convert {\n",
              "      background-color: #3B4455;\n",
              "      fill: #D2E3FC;\n",
              "    }\n",
              "\n",
              "    [theme=dark] .colab-df-convert:hover {\n",
              "      background-color: #434B5C;\n",
              "      box-shadow: 0px 1px 3px 1px rgba(0, 0, 0, 0.15);\n",
              "      filter: drop-shadow(0px 1px 2px rgba(0, 0, 0, 0.3));\n",
              "      fill: #FFFFFF;\n",
              "    }\n",
              "  </style>\n",
              "\n",
              "    <script>\n",
              "      const buttonEl =\n",
              "        document.querySelector('#df-986b4500-29eb-4821-aa16-536c33222b0f button.colab-df-convert');\n",
              "      buttonEl.style.display =\n",
              "        google.colab.kernel.accessAllowed ? 'block' : 'none';\n",
              "\n",
              "      async function convertToInteractive(key) {\n",
              "        const element = document.querySelector('#df-986b4500-29eb-4821-aa16-536c33222b0f');\n",
              "        const dataTable =\n",
              "          await google.colab.kernel.invokeFunction('convertToInteractive',\n",
              "                                                    [key], {});\n",
              "        if (!dataTable) return;\n",
              "\n",
              "        const docLinkHtml = 'Like what you see? Visit the ' +\n",
              "          '<a target=\"_blank\" href=https://colab.research.google.com/notebooks/data_table.ipynb>data table notebook</a>'\n",
              "          + ' to learn more about interactive tables.';\n",
              "        element.innerHTML = '';\n",
              "        dataTable['output_type'] = 'display_data';\n",
              "        await google.colab.output.renderOutput(dataTable, element);\n",
              "        const docLink = document.createElement('div');\n",
              "        docLink.innerHTML = docLinkHtml;\n",
              "        element.appendChild(docLink);\n",
              "      }\n",
              "    </script>\n",
              "  </div>\n",
              "\n",
              "\n",
              "<div id=\"df-8d343365-1ce1-4432-bef6-2c7d070e1424\">\n",
              "  <button class=\"colab-df-quickchart\" onclick=\"quickchart('df-8d343365-1ce1-4432-bef6-2c7d070e1424')\"\n",
              "            title=\"Suggest charts\"\n",
              "            style=\"display:none;\">\n",
              "\n",
              "<svg xmlns=\"http://www.w3.org/2000/svg\" height=\"24px\"viewBox=\"0 0 24 24\"\n",
              "     width=\"24px\">\n",
              "    <g>\n",
              "        <path d=\"M19 3H5c-1.1 0-2 .9-2 2v14c0 1.1.9 2 2 2h14c1.1 0 2-.9 2-2V5c0-1.1-.9-2-2-2zM9 17H7v-7h2v7zm4 0h-2V7h2v10zm4 0h-2v-4h2v4z\"/>\n",
              "    </g>\n",
              "</svg>\n",
              "  </button>\n",
              "\n",
              "<style>\n",
              "  .colab-df-quickchart {\n",
              "      --bg-color: #E8F0FE;\n",
              "      --fill-color: #1967D2;\n",
              "      --hover-bg-color: #E2EBFA;\n",
              "      --hover-fill-color: #174EA6;\n",
              "      --disabled-fill-color: #AAA;\n",
              "      --disabled-bg-color: #DDD;\n",
              "  }\n",
              "\n",
              "  [theme=dark] .colab-df-quickchart {\n",
              "      --bg-color: #3B4455;\n",
              "      --fill-color: #D2E3FC;\n",
              "      --hover-bg-color: #434B5C;\n",
              "      --hover-fill-color: #FFFFFF;\n",
              "      --disabled-bg-color: #3B4455;\n",
              "      --disabled-fill-color: #666;\n",
              "  }\n",
              "\n",
              "  .colab-df-quickchart {\n",
              "    background-color: var(--bg-color);\n",
              "    border: none;\n",
              "    border-radius: 50%;\n",
              "    cursor: pointer;\n",
              "    display: none;\n",
              "    fill: var(--fill-color);\n",
              "    height: 32px;\n",
              "    padding: 0;\n",
              "    width: 32px;\n",
              "  }\n",
              "\n",
              "  .colab-df-quickchart:hover {\n",
              "    background-color: var(--hover-bg-color);\n",
              "    box-shadow: 0 1px 2px rgba(60, 64, 67, 0.3), 0 1px 3px 1px rgba(60, 64, 67, 0.15);\n",
              "    fill: var(--button-hover-fill-color);\n",
              "  }\n",
              "\n",
              "  .colab-df-quickchart-complete:disabled,\n",
              "  .colab-df-quickchart-complete:disabled:hover {\n",
              "    background-color: var(--disabled-bg-color);\n",
              "    fill: var(--disabled-fill-color);\n",
              "    box-shadow: none;\n",
              "  }\n",
              "\n",
              "  .colab-df-spinner {\n",
              "    border: 2px solid var(--fill-color);\n",
              "    border-color: transparent;\n",
              "    border-bottom-color: var(--fill-color);\n",
              "    animation:\n",
              "      spin 1s steps(1) infinite;\n",
              "  }\n",
              "\n",
              "  @keyframes spin {\n",
              "    0% {\n",
              "      border-color: transparent;\n",
              "      border-bottom-color: var(--fill-color);\n",
              "      border-left-color: var(--fill-color);\n",
              "    }\n",
              "    20% {\n",
              "      border-color: transparent;\n",
              "      border-left-color: var(--fill-color);\n",
              "      border-top-color: var(--fill-color);\n",
              "    }\n",
              "    30% {\n",
              "      border-color: transparent;\n",
              "      border-left-color: var(--fill-color);\n",
              "      border-top-color: var(--fill-color);\n",
              "      border-right-color: var(--fill-color);\n",
              "    }\n",
              "    40% {\n",
              "      border-color: transparent;\n",
              "      border-right-color: var(--fill-color);\n",
              "      border-top-color: var(--fill-color);\n",
              "    }\n",
              "    60% {\n",
              "      border-color: transparent;\n",
              "      border-right-color: var(--fill-color);\n",
              "    }\n",
              "    80% {\n",
              "      border-color: transparent;\n",
              "      border-right-color: var(--fill-color);\n",
              "      border-bottom-color: var(--fill-color);\n",
              "    }\n",
              "    90% {\n",
              "      border-color: transparent;\n",
              "      border-bottom-color: var(--fill-color);\n",
              "    }\n",
              "  }\n",
              "</style>\n",
              "\n",
              "  <script>\n",
              "    async function quickchart(key) {\n",
              "      const quickchartButtonEl =\n",
              "        document.querySelector('#' + key + ' button');\n",
              "      quickchartButtonEl.disabled = true;  // To prevent multiple clicks.\n",
              "      quickchartButtonEl.classList.add('colab-df-spinner');\n",
              "      try {\n",
              "        const charts = await google.colab.kernel.invokeFunction(\n",
              "            'suggestCharts', [key], {});\n",
              "      } catch (error) {\n",
              "        console.error('Error during call to suggestCharts:', error);\n",
              "      }\n",
              "      quickchartButtonEl.classList.remove('colab-df-spinner');\n",
              "      quickchartButtonEl.classList.add('colab-df-quickchart-complete');\n",
              "    }\n",
              "    (() => {\n",
              "      let quickchartButtonEl =\n",
              "        document.querySelector('#df-8d343365-1ce1-4432-bef6-2c7d070e1424 button');\n",
              "      quickchartButtonEl.style.display =\n",
              "        google.colab.kernel.accessAllowed ? 'block' : 'none';\n",
              "    })();\n",
              "  </script>\n",
              "</div>\n",
              "\n",
              "  <div id=\"id_84c10114-b451-45fc-aac0-6cb3f5484ebc\">\n",
              "    <style>\n",
              "      .colab-df-generate {\n",
              "        background-color: #E8F0FE;\n",
              "        border: none;\n",
              "        border-radius: 50%;\n",
              "        cursor: pointer;\n",
              "        display: none;\n",
              "        fill: #1967D2;\n",
              "        height: 32px;\n",
              "        padding: 0 0 0 0;\n",
              "        width: 32px;\n",
              "      }\n",
              "\n",
              "      .colab-df-generate:hover {\n",
              "        background-color: #E2EBFA;\n",
              "        box-shadow: 0px 1px 2px rgba(60, 64, 67, 0.3), 0px 1px 3px 1px rgba(60, 64, 67, 0.15);\n",
              "        fill: #174EA6;\n",
              "      }\n",
              "\n",
              "      [theme=dark] .colab-df-generate {\n",
              "        background-color: #3B4455;\n",
              "        fill: #D2E3FC;\n",
              "      }\n",
              "\n",
              "      [theme=dark] .colab-df-generate:hover {\n",
              "        background-color: #434B5C;\n",
              "        box-shadow: 0px 1px 3px 1px rgba(0, 0, 0, 0.15);\n",
              "        filter: drop-shadow(0px 1px 2px rgba(0, 0, 0, 0.3));\n",
              "        fill: #FFFFFF;\n",
              "      }\n",
              "    </style>\n",
              "    <button class=\"colab-df-generate\" onclick=\"generateWithVariable('results')\"\n",
              "            title=\"Generate code using this dataframe.\"\n",
              "            style=\"display:none;\">\n",
              "\n",
              "  <svg xmlns=\"http://www.w3.org/2000/svg\" height=\"24px\"viewBox=\"0 0 24 24\"\n",
              "       width=\"24px\">\n",
              "    <path d=\"M7,19H8.4L18.45,9,17,7.55,7,17.6ZM5,21V16.75L18.45,3.32a2,2,0,0,1,2.83,0l1.4,1.43a1.91,1.91,0,0,1,.58,1.4,1.91,1.91,0,0,1-.58,1.4L9.25,21ZM18.45,9,17,7.55Zm-12,3A5.31,5.31,0,0,0,4.9,8.1,5.31,5.31,0,0,0,1,6.5,5.31,5.31,0,0,0,4.9,4.9,5.31,5.31,0,0,0,6.5,1,5.31,5.31,0,0,0,8.1,4.9,5.31,5.31,0,0,0,12,6.5,5.46,5.46,0,0,0,6.5,12Z\"/>\n",
              "  </svg>\n",
              "    </button>\n",
              "    <script>\n",
              "      (() => {\n",
              "      const buttonEl =\n",
              "        document.querySelector('#id_84c10114-b451-45fc-aac0-6cb3f5484ebc button.colab-df-generate');\n",
              "      buttonEl.style.display =\n",
              "        google.colab.kernel.accessAllowed ? 'block' : 'none';\n",
              "\n",
              "      buttonEl.onclick = () => {\n",
              "        google.colab.notebook.generateWithVariable('results');\n",
              "      }\n",
              "      })();\n",
              "    </script>\n",
              "  </div>\n",
              "\n",
              "    </div>\n",
              "  </div>\n"
            ],
            "application/vnd.google.colaboratory.intrinsic+json": {
              "type": "dataframe",
              "variable_name": "results",
              "summary": "{\n  \"name\": \"results\",\n  \"rows\": 13323,\n  \"fields\": [\n    {\n      \"column\": \"text\",\n      \"properties\": {\n        \"dtype\": \"string\",\n        \"num_unique_values\": 12251,\n        \"samples\": [\n          \"With Group sales of CHF 32 billion ( +6.0 % ) in the reporting year, Migros exceeded its previous sales record set in 2022.\",\n          \"Other assumptions that influence the calculations are average op- erating hours per year and efficiency gains, which are based on external data analysis.\",\n          \"Moving forward, ABB aims to enhance data sufficiency and integration for a more transparent and comprehensive sustainability footprint.\"\n        ],\n        \"semantic_type\": \"\",\n        \"description\": \"\"\n      }\n    },\n    {\n      \"column\": \"environmental\",\n      \"properties\": {\n        \"dtype\": \"category\",\n        \"num_unique_values\": 2,\n        \"samples\": [\n          \"none\",\n          \"environmental\"\n        ],\n        \"semantic_type\": \"\",\n        \"description\": \"\"\n      }\n    },\n    {\n      \"column\": \"action\",\n      \"properties\": {\n        \"dtype\": \"category\",\n        \"num_unique_values\": 2,\n        \"samples\": [\n          \"action\",\n          \"none\"\n        ],\n        \"semantic_type\": \"\",\n        \"description\": \"\"\n      }\n    },\n    {\n      \"column\": \"company\",\n      \"properties\": {\n        \"dtype\": \"category\",\n        \"num_unique_values\": 4,\n        \"samples\": [\n          \"Coop\",\n          \"UBS\"\n        ],\n        \"semantic_type\": \"\",\n        \"description\": \"\"\n      }\n    }\n  ]\n}"
            }
          },
          "metadata": {},
          "execution_count": 20
        }
      ]
    },
    {
      "cell_type": "markdown",
      "source": [
        "#### Let's see:\n",
        " 1. how much does the company talk about “environmental” topics in general and\n",
        " 2. how much does it talk about “environmental actions”?"
      ],
      "metadata": {
        "id": "HVdQimqVisVy"
      }
    },
    {
      "cell_type": "code",
      "source": [
        "def calculatePercentages(classified_df, output_csv=\"percentages_summary.csv\"):\n",
        "    \"\"\"\n",
        "    Calculate percentages of sentences addressing environmental topics and actions for each company\n",
        "    and save the results to a CSV file.\n",
        "\n",
        "    Args:\n",
        "    classified_df (pd.DataFrame): DataFrame containing sentences and their classifications for all companies.\n",
        "    output_csv (str): Path to save the summary results as a CSV file.\n",
        "\n",
        "    Returns:\n",
        "    pd.DataFrame: A DataFrame summarizing percentages for each company.\n",
        "    \"\"\"\n",
        "    percentages = []  # To store percentage calculations\n",
        "\n",
        "    # Group by company to calculate percentages for each company\n",
        "    grouped = classified_df.groupby(\"company\")\n",
        "    for company_name, group in grouped:\n",
        "        total_sentences = group.shape[0]\n",
        "        env_sentences = group[group[\"environmental\"] == \"environmental\"].shape[0]\n",
        "        action_sentences = group[group[\"action\"] == \"action\"].shape[0]\n",
        "\n",
        "        # Calculate percentages\n",
        "        env_pct = env_sentences / total_sentences if total_sentences > 0 else 0\n",
        "        action_pct = action_sentences / total_sentences if total_sentences > 0 else 0\n",
        "\n",
        "        # Append results to the list\n",
        "        percentages.append({\n",
        "            \"company\": company_name,\n",
        "            \"total_sentences\": total_sentences,\n",
        "            \"environmental_sentences\": env_sentences,\n",
        "            \"action_sentences\": action_sentences,\n",
        "            \"environmental_percentage\": env_pct,\n",
        "            \"action_percentage\": action_pct,\n",
        "        })\n",
        "\n",
        "    # Convert the results into a DataFrame\n",
        "    summary_df = pd.DataFrame(percentages)\n",
        "\n",
        "    # Save to CSV\n",
        "    summary_df.to_csv(output_csv, index=False)\n",
        "    print(f\"Percentages saved to {output_csv}\")\n",
        "\n",
        "    return summary_df\n"
      ],
      "metadata": {
        "id": "5xwh3SZ2iNBC"
      },
      "execution_count": null,
      "outputs": []
    },
    {
      "cell_type": "code",
      "source": [
        "summary_df = calculatePercentages(results, output_csv=\"classification_percentages.csv\")\n",
        "print(summary_df)"
      ],
      "metadata": {
        "colab": {
          "base_uri": "https://localhost:8080/"
        },
        "id": "VCIAYUKeiPPe",
        "outputId": "df598664-0361-4b36-fb0c-4094f8896cd3"
      },
      "execution_count": null,
      "outputs": [
        {
          "output_type": "stream",
          "name": "stdout",
          "text": [
            "Percentages saved to classification_percentages.csv\n",
            "  company  total_sentences  environmental_sentences  action_sentences  \\\n",
            "0     ABB             4365                     1988               628   \n",
            "1    Coop             2261                      239                55   \n",
            "2  Migros             1378                       75                33   \n",
            "3     UBS             5319                     3224              1104   \n",
            "\n",
            "   environmental_percentage  action_percentage  \n",
            "0                  0.455441           0.143872  \n",
            "1                  0.105705           0.024326  \n",
            "2                  0.054427           0.023948  \n",
            "3                  0.606129           0.207558  \n"
          ]
        }
      ]
    },
    {
      "cell_type": "markdown",
      "source": [
        "### Step5. Visualize the classification results."
      ],
      "metadata": {
        "id": "hHGsdAiBIcXR"
      }
    },
    {
      "cell_type": "code",
      "source": [
        "def visualizePercentages(summary_df):\n",
        "    \"\"\"\n",
        "    Visualize the percentages of environmental and environmental action sentences\n",
        "    for multiple companies using predefined colors, white background, and Times New Roman font.\n",
        "\n",
        "    Args:\n",
        "    summary_df (pd.DataFrame): DataFrame summarizing percentages for each company.\n",
        "    \"\"\"\n",
        "    # Extract data for visualization\n",
        "    categories = summary_df['company'].tolist()\n",
        "    values1 = summary_df['environmental_percentage'].tolist()\n",
        "    values2 = summary_df['action_percentage'].tolist()\n",
        "\n",
        "    bar_width = 0.30\n",
        "\n",
        "    # Set the positions of the bars on the x-axis\n",
        "    r1 = np.arange(len(categories))\n",
        "    r2 = [x + bar_width for x in r1]\n",
        "\n",
        "    # Define colors\n",
        "    color1 = \"#FFC845\"  # Blue (environmental)\n",
        "    color2 = \"#3062FF\"  # Green (environmental action)\n",
        "\n",
        "    # Create traces\n",
        "    trace1 = go.Bar(\n",
        "        x=categories,\n",
        "        y=values1,\n",
        "        name='Environmental',\n",
        "        marker_color=color1\n",
        "    )\n",
        "\n",
        "    trace2 = go.Bar(\n",
        "        x=categories,\n",
        "        y=values2,\n",
        "        name='Environmental Action',\n",
        "        marker_color=color2\n",
        "    )\n",
        "\n",
        "    # Create the layout\n",
        "    layout = go.Layout(\n",
        "        title=dict(\n",
        "            text='Environmental and Action Percentages by Company',\n",
        "            font=dict(family='Times New Roman', size=20)\n",
        "        ),\n",
        "        barmode='group',\n",
        "        xaxis=dict(\n",
        "            title='Company',\n",
        "            titlefont=dict(family='Times New Roman', size=16),\n",
        "            tickfont=dict(family='Times New Roman', size=14)\n",
        "        ),\n",
        "        yaxis=dict(\n",
        "            title='Percentages',\n",
        "            titlefont=dict(family='Times New Roman', size=16),\n",
        "            tickfont=dict(family='Times New Roman', size=14),\n",
        "            tickformat=\".0%\",\n",
        "            showgrid=True,\n",
        "            gridcolor='lightgrey',\n",
        "            gridwidth=0.5\n",
        "        ),\n",
        "        legend=dict(\n",
        "            title=dict(\n",
        "                font=dict(family='Times New Roman', size=14)\n",
        "            ),\n",
        "            font=dict(family='Times New Roman', size=12)\n",
        "        ),\n",
        "        paper_bgcolor='white',  # White background\n",
        "        plot_bgcolor='white'\n",
        "    )\n",
        "\n",
        "    fig = go.Figure(data=[trace1, trace2], layout=layout)\n",
        "\n",
        "    fig.show()"
      ],
      "metadata": {
        "id": "xSPpb-p8Dsqx"
      },
      "execution_count": null,
      "outputs": []
    },
    {
      "cell_type": "code",
      "source": [
        "visualizePercentages(summary_df)"
      ],
      "metadata": {
        "colab": {
          "base_uri": "https://localhost:8080/",
          "height": 542
        },
        "id": "KkAZZvXTjbYH",
        "outputId": "adb588fd-fa2c-439e-85ac-3c5955085073"
      },
      "execution_count": null,
      "outputs": [
        {
          "output_type": "display_data",
          "data": {
            "text/html": [
              "<html>\n",
              "<head><meta charset=\"utf-8\" /></head>\n",
              "<body>\n",
              "    <div>            <script src=\"https://cdnjs.cloudflare.com/ajax/libs/mathjax/2.7.5/MathJax.js?config=TeX-AMS-MML_SVG\"></script><script type=\"text/javascript\">if (window.MathJax && window.MathJax.Hub && window.MathJax.Hub.Config) {window.MathJax.Hub.Config({SVG: {font: \"STIX-Web\"}});}</script>                <script type=\"text/javascript\">window.PlotlyConfig = {MathJaxConfig: 'local'};</script>\n",
              "        <script charset=\"utf-8\" src=\"https://cdn.plot.ly/plotly-2.35.2.min.js\"></script>                <div id=\"b4bfe317-89c5-40cd-af3f-ffec78ce0467\" class=\"plotly-graph-div\" style=\"height:525px; width:100%;\"></div>            <script type=\"text/javascript\">                                    window.PLOTLYENV=window.PLOTLYENV || {};                                    if (document.getElementById(\"b4bfe317-89c5-40cd-af3f-ffec78ce0467\")) {                    Plotly.newPlot(                        \"b4bfe317-89c5-40cd-af3f-ffec78ce0467\",                        [{\"marker\":{\"color\":\"#FFC845\"},\"name\":\"Environmental\",\"x\":[\"ABB\",\"Coop\",\"Migros\",\"UBS\"],\"y\":[0.4554410080183276,0.10570544007076514,0.054426705370101594,0.6061289716112052],\"type\":\"bar\"},{\"marker\":{\"color\":\"#3062FF\"},\"name\":\"Environmental Action\",\"x\":[\"ABB\",\"Coop\",\"Migros\",\"UBS\"],\"y\":[0.14387170675830468,0.024325519681556832,0.023947750362844702,0.20755781161872533],\"type\":\"bar\"}],                        {\"barmode\":\"group\",\"legend\":{\"font\":{\"family\":\"Times New Roman\",\"size\":12},\"title\":{\"font\":{\"family\":\"Times New Roman\",\"size\":14}}},\"paper_bgcolor\":\"white\",\"plot_bgcolor\":\"white\",\"title\":{\"font\":{\"family\":\"Times New Roman\",\"size\":20},\"text\":\"Environmental and Action Percentages by Company\"},\"xaxis\":{\"tickfont\":{\"family\":\"Times New Roman\",\"size\":14},\"title\":{\"font\":{\"family\":\"Times New Roman\",\"size\":16},\"text\":\"Company\"}},\"yaxis\":{\"gridcolor\":\"lightgrey\",\"gridwidth\":0.5,\"showgrid\":true,\"tickfont\":{\"family\":\"Times New Roman\",\"size\":14},\"tickformat\":\".0%\",\"title\":{\"font\":{\"family\":\"Times New Roman\",\"size\":16},\"text\":\"Percentages\"}},\"template\":{\"data\":{\"histogram2dcontour\":[{\"type\":\"histogram2dcontour\",\"colorbar\":{\"outlinewidth\":0,\"ticks\":\"\"},\"colorscale\":[[0.0,\"#0d0887\"],[0.1111111111111111,\"#46039f\"],[0.2222222222222222,\"#7201a8\"],[0.3333333333333333,\"#9c179e\"],[0.4444444444444444,\"#bd3786\"],[0.5555555555555556,\"#d8576b\"],[0.6666666666666666,\"#ed7953\"],[0.7777777777777778,\"#fb9f3a\"],[0.8888888888888888,\"#fdca26\"],[1.0,\"#f0f921\"]]}],\"choropleth\":[{\"type\":\"choropleth\",\"colorbar\":{\"outlinewidth\":0,\"ticks\":\"\"}}],\"histogram2d\":[{\"type\":\"histogram2d\",\"colorbar\":{\"outlinewidth\":0,\"ticks\":\"\"},\"colorscale\":[[0.0,\"#0d0887\"],[0.1111111111111111,\"#46039f\"],[0.2222222222222222,\"#7201a8\"],[0.3333333333333333,\"#9c179e\"],[0.4444444444444444,\"#bd3786\"],[0.5555555555555556,\"#d8576b\"],[0.6666666666666666,\"#ed7953\"],[0.7777777777777778,\"#fb9f3a\"],[0.8888888888888888,\"#fdca26\"],[1.0,\"#f0f921\"]]}],\"heatmap\":[{\"type\":\"heatmap\",\"colorbar\":{\"outlinewidth\":0,\"ticks\":\"\"},\"colorscale\":[[0.0,\"#0d0887\"],[0.1111111111111111,\"#46039f\"],[0.2222222222222222,\"#7201a8\"],[0.3333333333333333,\"#9c179e\"],[0.4444444444444444,\"#bd3786\"],[0.5555555555555556,\"#d8576b\"],[0.6666666666666666,\"#ed7953\"],[0.7777777777777778,\"#fb9f3a\"],[0.8888888888888888,\"#fdca26\"],[1.0,\"#f0f921\"]]}],\"heatmapgl\":[{\"type\":\"heatmapgl\",\"colorbar\":{\"outlinewidth\":0,\"ticks\":\"\"},\"colorscale\":[[0.0,\"#0d0887\"],[0.1111111111111111,\"#46039f\"],[0.2222222222222222,\"#7201a8\"],[0.3333333333333333,\"#9c179e\"],[0.4444444444444444,\"#bd3786\"],[0.5555555555555556,\"#d8576b\"],[0.6666666666666666,\"#ed7953\"],[0.7777777777777778,\"#fb9f3a\"],[0.8888888888888888,\"#fdca26\"],[1.0,\"#f0f921\"]]}],\"contourcarpet\":[{\"type\":\"contourcarpet\",\"colorbar\":{\"outlinewidth\":0,\"ticks\":\"\"}}],\"contour\":[{\"type\":\"contour\",\"colorbar\":{\"outlinewidth\":0,\"ticks\":\"\"},\"colorscale\":[[0.0,\"#0d0887\"],[0.1111111111111111,\"#46039f\"],[0.2222222222222222,\"#7201a8\"],[0.3333333333333333,\"#9c179e\"],[0.4444444444444444,\"#bd3786\"],[0.5555555555555556,\"#d8576b\"],[0.6666666666666666,\"#ed7953\"],[0.7777777777777778,\"#fb9f3a\"],[0.8888888888888888,\"#fdca26\"],[1.0,\"#f0f921\"]]}],\"surface\":[{\"type\":\"surface\",\"colorbar\":{\"outlinewidth\":0,\"ticks\":\"\"},\"colorscale\":[[0.0,\"#0d0887\"],[0.1111111111111111,\"#46039f\"],[0.2222222222222222,\"#7201a8\"],[0.3333333333333333,\"#9c179e\"],[0.4444444444444444,\"#bd3786\"],[0.5555555555555556,\"#d8576b\"],[0.6666666666666666,\"#ed7953\"],[0.7777777777777778,\"#fb9f3a\"],[0.8888888888888888,\"#fdca26\"],[1.0,\"#f0f921\"]]}],\"mesh3d\":[{\"type\":\"mesh3d\",\"colorbar\":{\"outlinewidth\":0,\"ticks\":\"\"}}],\"scatter\":[{\"fillpattern\":{\"fillmode\":\"overlay\",\"size\":10,\"solidity\":0.2},\"type\":\"scatter\"}],\"parcoords\":[{\"type\":\"parcoords\",\"line\":{\"colorbar\":{\"outlinewidth\":0,\"ticks\":\"\"}}}],\"scatterpolargl\":[{\"type\":\"scatterpolargl\",\"marker\":{\"colorbar\":{\"outlinewidth\":0,\"ticks\":\"\"}}}],\"bar\":[{\"error_x\":{\"color\":\"#2a3f5f\"},\"error_y\":{\"color\":\"#2a3f5f\"},\"marker\":{\"line\":{\"color\":\"#E5ECF6\",\"width\":0.5},\"pattern\":{\"fillmode\":\"overlay\",\"size\":10,\"solidity\":0.2}},\"type\":\"bar\"}],\"scattergeo\":[{\"type\":\"scattergeo\",\"marker\":{\"colorbar\":{\"outlinewidth\":0,\"ticks\":\"\"}}}],\"scatterpolar\":[{\"type\":\"scatterpolar\",\"marker\":{\"colorbar\":{\"outlinewidth\":0,\"ticks\":\"\"}}}],\"histogram\":[{\"marker\":{\"pattern\":{\"fillmode\":\"overlay\",\"size\":10,\"solidity\":0.2}},\"type\":\"histogram\"}],\"scattergl\":[{\"type\":\"scattergl\",\"marker\":{\"colorbar\":{\"outlinewidth\":0,\"ticks\":\"\"}}}],\"scatter3d\":[{\"type\":\"scatter3d\",\"line\":{\"colorbar\":{\"outlinewidth\":0,\"ticks\":\"\"}},\"marker\":{\"colorbar\":{\"outlinewidth\":0,\"ticks\":\"\"}}}],\"scattermapbox\":[{\"type\":\"scattermapbox\",\"marker\":{\"colorbar\":{\"outlinewidth\":0,\"ticks\":\"\"}}}],\"scatterternary\":[{\"type\":\"scatterternary\",\"marker\":{\"colorbar\":{\"outlinewidth\":0,\"ticks\":\"\"}}}],\"scattercarpet\":[{\"type\":\"scattercarpet\",\"marker\":{\"colorbar\":{\"outlinewidth\":0,\"ticks\":\"\"}}}],\"carpet\":[{\"aaxis\":{\"endlinecolor\":\"#2a3f5f\",\"gridcolor\":\"white\",\"linecolor\":\"white\",\"minorgridcolor\":\"white\",\"startlinecolor\":\"#2a3f5f\"},\"baxis\":{\"endlinecolor\":\"#2a3f5f\",\"gridcolor\":\"white\",\"linecolor\":\"white\",\"minorgridcolor\":\"white\",\"startlinecolor\":\"#2a3f5f\"},\"type\":\"carpet\"}],\"table\":[{\"cells\":{\"fill\":{\"color\":\"#EBF0F8\"},\"line\":{\"color\":\"white\"}},\"header\":{\"fill\":{\"color\":\"#C8D4E3\"},\"line\":{\"color\":\"white\"}},\"type\":\"table\"}],\"barpolar\":[{\"marker\":{\"line\":{\"color\":\"#E5ECF6\",\"width\":0.5},\"pattern\":{\"fillmode\":\"overlay\",\"size\":10,\"solidity\":0.2}},\"type\":\"barpolar\"}],\"pie\":[{\"automargin\":true,\"type\":\"pie\"}]},\"layout\":{\"autotypenumbers\":\"strict\",\"colorway\":[\"#636efa\",\"#EF553B\",\"#00cc96\",\"#ab63fa\",\"#FFA15A\",\"#19d3f3\",\"#FF6692\",\"#B6E880\",\"#FF97FF\",\"#FECB52\"],\"font\":{\"color\":\"#2a3f5f\"},\"hovermode\":\"closest\",\"hoverlabel\":{\"align\":\"left\"},\"paper_bgcolor\":\"white\",\"plot_bgcolor\":\"#E5ECF6\",\"polar\":{\"bgcolor\":\"#E5ECF6\",\"angularaxis\":{\"gridcolor\":\"white\",\"linecolor\":\"white\",\"ticks\":\"\"},\"radialaxis\":{\"gridcolor\":\"white\",\"linecolor\":\"white\",\"ticks\":\"\"}},\"ternary\":{\"bgcolor\":\"#E5ECF6\",\"aaxis\":{\"gridcolor\":\"white\",\"linecolor\":\"white\",\"ticks\":\"\"},\"baxis\":{\"gridcolor\":\"white\",\"linecolor\":\"white\",\"ticks\":\"\"},\"caxis\":{\"gridcolor\":\"white\",\"linecolor\":\"white\",\"ticks\":\"\"}},\"coloraxis\":{\"colorbar\":{\"outlinewidth\":0,\"ticks\":\"\"}},\"colorscale\":{\"sequential\":[[0.0,\"#0d0887\"],[0.1111111111111111,\"#46039f\"],[0.2222222222222222,\"#7201a8\"],[0.3333333333333333,\"#9c179e\"],[0.4444444444444444,\"#bd3786\"],[0.5555555555555556,\"#d8576b\"],[0.6666666666666666,\"#ed7953\"],[0.7777777777777778,\"#fb9f3a\"],[0.8888888888888888,\"#fdca26\"],[1.0,\"#f0f921\"]],\"sequentialminus\":[[0.0,\"#0d0887\"],[0.1111111111111111,\"#46039f\"],[0.2222222222222222,\"#7201a8\"],[0.3333333333333333,\"#9c179e\"],[0.4444444444444444,\"#bd3786\"],[0.5555555555555556,\"#d8576b\"],[0.6666666666666666,\"#ed7953\"],[0.7777777777777778,\"#fb9f3a\"],[0.8888888888888888,\"#fdca26\"],[1.0,\"#f0f921\"]],\"diverging\":[[0,\"#8e0152\"],[0.1,\"#c51b7d\"],[0.2,\"#de77ae\"],[0.3,\"#f1b6da\"],[0.4,\"#fde0ef\"],[0.5,\"#f7f7f7\"],[0.6,\"#e6f5d0\"],[0.7,\"#b8e186\"],[0.8,\"#7fbc41\"],[0.9,\"#4d9221\"],[1,\"#276419\"]]},\"xaxis\":{\"gridcolor\":\"white\",\"linecolor\":\"white\",\"ticks\":\"\",\"title\":{\"standoff\":15},\"zerolinecolor\":\"white\",\"automargin\":true,\"zerolinewidth\":2},\"yaxis\":{\"gridcolor\":\"white\",\"linecolor\":\"white\",\"ticks\":\"\",\"title\":{\"standoff\":15},\"zerolinecolor\":\"white\",\"automargin\":true,\"zerolinewidth\":2},\"scene\":{\"xaxis\":{\"backgroundcolor\":\"#E5ECF6\",\"gridcolor\":\"white\",\"linecolor\":\"white\",\"showbackground\":true,\"ticks\":\"\",\"zerolinecolor\":\"white\",\"gridwidth\":2},\"yaxis\":{\"backgroundcolor\":\"#E5ECF6\",\"gridcolor\":\"white\",\"linecolor\":\"white\",\"showbackground\":true,\"ticks\":\"\",\"zerolinecolor\":\"white\",\"gridwidth\":2},\"zaxis\":{\"backgroundcolor\":\"#E5ECF6\",\"gridcolor\":\"white\",\"linecolor\":\"white\",\"showbackground\":true,\"ticks\":\"\",\"zerolinecolor\":\"white\",\"gridwidth\":2}},\"shapedefaults\":{\"line\":{\"color\":\"#2a3f5f\"}},\"annotationdefaults\":{\"arrowcolor\":\"#2a3f5f\",\"arrowhead\":0,\"arrowwidth\":1},\"geo\":{\"bgcolor\":\"white\",\"landcolor\":\"#E5ECF6\",\"subunitcolor\":\"white\",\"showland\":true,\"showlakes\":true,\"lakecolor\":\"white\"},\"title\":{\"x\":0.05},\"mapbox\":{\"style\":\"light\"}}}},                        {\"responsive\": true}                    ).then(function(){\n",
              "                            \n",
              "var gd = document.getElementById('b4bfe317-89c5-40cd-af3f-ffec78ce0467');\n",
              "var x = new MutationObserver(function (mutations, observer) {{\n",
              "        var display = window.getComputedStyle(gd).display;\n",
              "        if (!display || display === 'none') {{\n",
              "            console.log([gd, 'removed!']);\n",
              "            Plotly.purge(gd);\n",
              "            observer.disconnect();\n",
              "        }}\n",
              "}});\n",
              "\n",
              "// Listen for the removal of the full notebook cells\n",
              "var notebookContainer = gd.closest('#notebook-container');\n",
              "if (notebookContainer) {{\n",
              "    x.observe(notebookContainer, {childList: true});\n",
              "}}\n",
              "\n",
              "// Listen for the clearing of the current output cell\n",
              "var outputEl = gd.closest('.output');\n",
              "if (outputEl) {{\n",
              "    x.observe(outputEl, {childList: true});\n",
              "}}\n",
              "\n",
              "                        })                };                            </script>        </div>\n",
              "</body>\n",
              "</html>"
            ]
          },
          "metadata": {}
        }
      ]
    },
    {
      "cell_type": "markdown",
      "source": [
        "![newplot.png](data:image/png;base64,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)"
      ],
      "metadata": {
        "id": "-Ai3f0f7JayB"
      }
    },
    {
      "cell_type": "markdown",
      "source": [
        "As shown in figure above, both UBS and ABB's reports contain a much higher proportion of sentences addressing both environmental topics and environmental actions compared to the reports from Coop and Migros.\n",
        "\n",
        "Additionally, there is a consistent gap between the coverage of environmental topics and the focus on environmental actions across all four reports. This suggests that while all companies discuss environmental issues, fewer sentences are dedicated to detailing specific actions being taken."
      ],
      "metadata": {
        "id": "3uk4KJXeKobl"
      }
    }
  ]
}